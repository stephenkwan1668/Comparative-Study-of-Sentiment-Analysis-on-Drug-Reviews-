{
  "cells": [
    {
      "cell_type": "markdown",
      "id": "44710efd-b990-4b0d-8ec5-17b45cca235c",
      "metadata": {
        "id": "44710efd-b990-4b0d-8ec5-17b45cca235c"
      },
      "source": [
        "# Drugs Reviews GloVe CNN with Sample Weights"
      ]
    },
    {
      "cell_type": "code",
      "execution_count": 1,
      "id": "ff0e2bc6-6758-4da9-84aa-6df295d24792",
      "metadata": {
        "id": "ff0e2bc6-6758-4da9-84aa-6df295d24792"
      },
      "outputs": [],
      "source": [
        "import gensim\n",
        "import pandas as pd\n",
        "import numpy as np\n",
        "import seaborn as sns\n",
        "import matplotlib.pyplot as plt\n",
        "import nltk\n",
        "from sklearn.model_selection import GridSearchCV\n",
        "from sklearn.pipeline import Pipeline\n",
        "from sklearn.feature_extraction.text import CountVectorizer\n",
        "from sklearn.svm import LinearSVC\n",
        "from sklearn.preprocessing import LabelBinarizer\n",
        "from sklearn.preprocessing import label_binarize\n",
        "from itertools import cycle\n",
        "from sklearn.model_selection import train_test_split\n",
        "from sklearn.metrics import accuracy_score, precision_score, recall_score, f1_score, classification_report, confusion_matrix\n",
        "from sklearn.metrics import precision_recall_fscore_support, precision_recall_curve, average_precision_score\n",
        "import gensim.downloader as api\n",
        "from gensim.models import KeyedVectors\n",
        "from keras.preprocessing.text import Tokenizer\n",
        "from tensorflow.keras.preprocessing.sequence import pad_sequences\n",
        "from keras.layers import Embedding, Conv1D, GlobalMaxPooling1D, Dense, Dropout\n",
        "from keras.models import Sequential\n",
        "from sklearn.utils.class_weight import compute_sample_weight\n",
        "from tensorflow.keras.models import Sequential\n",
        "from gensim.models.fasttext import FastText\n",
        "from tensorflow.keras.optimizers import Adam\n",
        "from keras.callbacks import EarlyStopping\n",
        "from keras.layers import Input, Embedding, Dropout, Conv1D, GlobalMaxPooling1D, Dense, Concatenate\n",
        "from keras.models import Model\n",
        "from sklearn.metrics import f1_score"
      ]
    },
    {
      "cell_type": "code",
      "execution_count": 2,
      "id": "nH_xd1_q4Mf7",
      "metadata": {
        "colab": {
          "base_uri": "https://localhost:8080/"
        },
        "id": "nH_xd1_q4Mf7",
        "outputId": "e25961eb-6480-4bdb-a5ba-4b03aa573fa4"
      },
      "outputs": [
        {
          "name": "stdout",
          "output_type": "stream",
          "text": [
            "Mounted at /content/drive\n"
          ]
        }
      ],
      "source": [
        "from google.colab import drive\n",
        "drive.mount('/content/drive')"
      ]
    },
    {
      "cell_type": "markdown",
      "id": "05319d78-f543-434f-84d5-2afdb1ba0b96",
      "metadata": {
        "id": "05319d78-f543-434f-84d5-2afdb1ba0b96"
      },
      "source": [
        "### Load the data"
      ]
    },
    {
      "cell_type": "code",
      "execution_count": 3,
      "id": "6fccea06-74ee-42b9-ac99-c642a7349110",
      "metadata": {
        "id": "6fccea06-74ee-42b9-ac99-c642a7349110"
      },
      "outputs": [],
      "source": [
        "X_train = pd.read_csv(\"/content/drive/MyDrive/Thesis/dataset/X_train.csv\")['review']\n",
        "y_train = pd.read_csv(\"/content/drive/MyDrive/Thesis/dataset/y_train.csv\")['sentiment']\n",
        "\n",
        "X_val = pd.read_csv(\"/content/drive/MyDrive/Thesis/dataset/X_val.csv\")['review'].reset_index(drop=True)\n",
        "y_val = pd.read_csv(\"/content/drive/MyDrive/Thesis/dataset/y_val.csv\")['sentiment'].reset_index(drop=True)\n",
        "\n",
        "X_test = pd.read_csv(\"/content/drive/MyDrive/Thesis/dataset/X_test.csv\")['review'].reset_index(drop=True)\n",
        "y_test = pd.read_csv(\"/content/drive/MyDrive/Thesis/dataset/y_test.csv\")['sentiment'].reset_index(drop=True)\n",
        "\n",
        "X_train = X_train.astype(str).dropna()\n",
        "X_val = X_val.astype(str).dropna()\n",
        "X_test = X_test.astype(str).dropna()"
      ]
    },
    {
      "cell_type": "code",
      "execution_count": null,
      "id": "7KAFOeA-4JKY",
      "metadata": {
        "id": "7KAFOeA-4JKY"
      },
      "outputs": [],
      "source": [
        "# Load the pre-trained FastText embeddings\n",
        "fasttext_model = FastText.load_fasttext_format('/content/drive/MyDrive/Thesis/FastText/cc.en.300.bin')"
      ]
    },
    {
      "cell_type": "code",
      "execution_count": 6,
      "id": "Mc9sHhbXqp0J",
      "metadata": {
        "id": "Mc9sHhbXqp0J"
      },
      "outputs": [],
      "source": [
        "tokenizer = Tokenizer(num_words=30000)\n",
        "tokenizer.fit_on_texts(X_train)\n",
        "sequences_train = tokenizer.texts_to_sequences(X_train)\n",
        "sequences_val = tokenizer.texts_to_sequences(X_val)\n",
        "sequences_test = tokenizer.texts_to_sequences(X_test)"
      ]
    },
    {
      "cell_type": "markdown",
      "id": "60D2ZstaaxPo",
      "metadata": {
        "id": "60D2ZstaaxPo"
      },
      "source": [
        "#Without Batch normalization\n"
      ]
    },
    {
      "cell_type": "code",
      "execution_count": 7,
      "id": "nPOzkJm2hfw2",
      "metadata": {
        "colab": {
          "base_uri": "https://localhost:8080/"
        },
        "id": "nPOzkJm2hfw2",
        "outputId": "3bbbdd67-ec97-4787-c8f0-31689bdbae53"
      },
      "outputs": [
        {
          "name": "stdout",
          "output_type": "stream",
          "text": [
            "Epoch 1/200\n",
            "686/686 [==============================] - 14s 7ms/step - loss: 0.7458 - accuracy: 0.6989 - val_loss: 0.6145 - val_accuracy: 0.7657\n",
            "Epoch 2/200\n",
            "686/686 [==============================] - 4s 6ms/step - loss: 0.6203 - accuracy: 0.7601 - val_loss: 0.5665 - val_accuracy: 0.7849\n",
            "Epoch 3/200\n",
            "686/686 [==============================] - 4s 6ms/step - loss: 0.5838 - accuracy: 0.7753 - val_loss: 0.5378 - val_accuracy: 0.7943\n",
            "Epoch 4/200\n",
            "686/686 [==============================] - 4s 6ms/step - loss: 0.5587 - accuracy: 0.7858 - val_loss: 0.5300 - val_accuracy: 0.8000\n",
            "Epoch 5/200\n",
            "686/686 [==============================] - 4s 6ms/step - loss: 0.5428 - accuracy: 0.7931 - val_loss: 0.5137 - val_accuracy: 0.8033\n",
            "Epoch 6/200\n",
            "686/686 [==============================] - 4s 6ms/step - loss: 0.5303 - accuracy: 0.7965 - val_loss: 0.5072 - val_accuracy: 0.8078\n",
            "Epoch 7/200\n",
            "686/686 [==============================] - 4s 6ms/step - loss: 0.5225 - accuracy: 0.8001 - val_loss: 0.5013 - val_accuracy: 0.8094\n",
            "Epoch 8/200\n",
            "686/686 [==============================] - 4s 6ms/step - loss: 0.5107 - accuracy: 0.8033 - val_loss: 0.4941 - val_accuracy: 0.8131\n",
            "Epoch 9/200\n",
            "686/686 [==============================] - 4s 6ms/step - loss: 0.5062 - accuracy: 0.8062 - val_loss: 0.4908 - val_accuracy: 0.8149\n",
            "Epoch 10/200\n",
            "686/686 [==============================] - 4s 6ms/step - loss: 0.4983 - accuracy: 0.8089 - val_loss: 0.4793 - val_accuracy: 0.8164\n",
            "Epoch 11/200\n",
            "686/686 [==============================] - 4s 6ms/step - loss: 0.4929 - accuracy: 0.8108 - val_loss: 0.4800 - val_accuracy: 0.8170\n",
            "Epoch 12/200\n",
            "686/686 [==============================] - 4s 6ms/step - loss: 0.4873 - accuracy: 0.8137 - val_loss: 0.4730 - val_accuracy: 0.8207\n",
            "Epoch 13/200\n",
            "686/686 [==============================] - 4s 6ms/step - loss: 0.4820 - accuracy: 0.8151 - val_loss: 0.4733 - val_accuracy: 0.8190\n",
            "Epoch 14/200\n",
            "686/686 [==============================] - 4s 6ms/step - loss: 0.4780 - accuracy: 0.8159 - val_loss: 0.4674 - val_accuracy: 0.8229\n",
            "Epoch 15/200\n",
            "686/686 [==============================] - 4s 6ms/step - loss: 0.4747 - accuracy: 0.8180 - val_loss: 0.4688 - val_accuracy: 0.8243\n",
            "Epoch 16/200\n",
            "686/686 [==============================] - 4s 6ms/step - loss: 0.4683 - accuracy: 0.8200 - val_loss: 0.4720 - val_accuracy: 0.8216\n",
            "Epoch 17/200\n",
            "686/686 [==============================] - 4s 6ms/step - loss: 0.4661 - accuracy: 0.8205 - val_loss: 0.4609 - val_accuracy: 0.8256\n",
            "Epoch 18/200\n",
            "686/686 [==============================] - 4s 6ms/step - loss: 0.4632 - accuracy: 0.8209 - val_loss: 0.4605 - val_accuracy: 0.8239\n",
            "Epoch 19/200\n",
            "686/686 [==============================] - 4s 6ms/step - loss: 0.4589 - accuracy: 0.8237 - val_loss: 0.4596 - val_accuracy: 0.8250\n",
            "Epoch 20/200\n",
            "686/686 [==============================] - 4s 6ms/step - loss: 0.4557 - accuracy: 0.8247 - val_loss: 0.4565 - val_accuracy: 0.8257\n",
            "Epoch 21/200\n",
            "686/686 [==============================] - 4s 6ms/step - loss: 0.4530 - accuracy: 0.8249 - val_loss: 0.4515 - val_accuracy: 0.8264\n",
            "Epoch 22/200\n",
            "686/686 [==============================] - 4s 6ms/step - loss: 0.4492 - accuracy: 0.8266 - val_loss: 0.4497 - val_accuracy: 0.8282\n",
            "Epoch 23/200\n",
            "686/686 [==============================] - 4s 6ms/step - loss: 0.4479 - accuracy: 0.8276 - val_loss: 0.4494 - val_accuracy: 0.8300\n",
            "Epoch 24/200\n",
            "686/686 [==============================] - 4s 6ms/step - loss: 0.4467 - accuracy: 0.8272 - val_loss: 0.4513 - val_accuracy: 0.8295\n",
            "Epoch 25/200\n",
            "686/686 [==============================] - 4s 6ms/step - loss: 0.4443 - accuracy: 0.8284 - val_loss: 0.4460 - val_accuracy: 0.8303\n",
            "Epoch 26/200\n",
            "686/686 [==============================] - 4s 6ms/step - loss: 0.4419 - accuracy: 0.8291 - val_loss: 0.4522 - val_accuracy: 0.8272\n",
            "Epoch 27/200\n",
            "686/686 [==============================] - 4s 6ms/step - loss: 0.4396 - accuracy: 0.8306 - val_loss: 0.4453 - val_accuracy: 0.8304\n",
            "Epoch 28/200\n",
            "686/686 [==============================] - 4s 6ms/step - loss: 0.4367 - accuracy: 0.8314 - val_loss: 0.4428 - val_accuracy: 0.8302\n",
            "Epoch 29/200\n",
            "686/686 [==============================] - 4s 6ms/step - loss: 0.4347 - accuracy: 0.8322 - val_loss: 0.4428 - val_accuracy: 0.8323\n",
            "Epoch 30/200\n",
            "686/686 [==============================] - 4s 6ms/step - loss: 0.4322 - accuracy: 0.8334 - val_loss: 0.4391 - val_accuracy: 0.8314\n",
            "Epoch 31/200\n",
            "686/686 [==============================] - 4s 6ms/step - loss: 0.4299 - accuracy: 0.8345 - val_loss: 0.4462 - val_accuracy: 0.8304\n",
            "Epoch 32/200\n",
            "686/686 [==============================] - 4s 6ms/step - loss: 0.4304 - accuracy: 0.8332 - val_loss: 0.4393 - val_accuracy: 0.8324\n",
            "Epoch 33/200\n",
            "686/686 [==============================] - 4s 6ms/step - loss: 0.4274 - accuracy: 0.8349 - val_loss: 0.4426 - val_accuracy: 0.8305\n",
            "Epoch 34/200\n",
            "686/686 [==============================] - 4s 6ms/step - loss: 0.4255 - accuracy: 0.8367 - val_loss: 0.4385 - val_accuracy: 0.8337\n",
            "Epoch 35/200\n",
            "686/686 [==============================] - 4s 6ms/step - loss: 0.4229 - accuracy: 0.8356 - val_loss: 0.4415 - val_accuracy: 0.8307\n",
            "Epoch 36/200\n",
            "686/686 [==============================] - 4s 6ms/step - loss: 0.4247 - accuracy: 0.8363 - val_loss: 0.4356 - val_accuracy: 0.8350\n",
            "Epoch 37/200\n",
            "686/686 [==============================] - 4s 6ms/step - loss: 0.4228 - accuracy: 0.8371 - val_loss: 0.4357 - val_accuracy: 0.8345\n",
            "Epoch 38/200\n",
            "686/686 [==============================] - 4s 6ms/step - loss: 0.4199 - accuracy: 0.8383 - val_loss: 0.4354 - val_accuracy: 0.8334\n",
            "Epoch 39/200\n",
            "686/686 [==============================] - 4s 6ms/step - loss: 0.4200 - accuracy: 0.8364 - val_loss: 0.4340 - val_accuracy: 0.8353\n",
            "Epoch 40/200\n",
            "686/686 [==============================] - 4s 6ms/step - loss: 0.4191 - accuracy: 0.8384 - val_loss: 0.4337 - val_accuracy: 0.8356\n",
            "Epoch 41/200\n",
            "686/686 [==============================] - 4s 6ms/step - loss: 0.4177 - accuracy: 0.8384 - val_loss: 0.4331 - val_accuracy: 0.8354\n",
            "Epoch 42/200\n",
            "686/686 [==============================] - 4s 6ms/step - loss: 0.4165 - accuracy: 0.8388 - val_loss: 0.4291 - val_accuracy: 0.8353\n",
            "Epoch 43/200\n",
            "686/686 [==============================] - 4s 6ms/step - loss: 0.4142 - accuracy: 0.8401 - val_loss: 0.4320 - val_accuracy: 0.8365\n",
            "Epoch 44/200\n",
            "686/686 [==============================] - 4s 6ms/step - loss: 0.4143 - accuracy: 0.8398 - val_loss: 0.4308 - val_accuracy: 0.8377\n",
            "Epoch 45/200\n",
            "686/686 [==============================] - 4s 6ms/step - loss: 0.4105 - accuracy: 0.8405 - val_loss: 0.4328 - val_accuracy: 0.8342\n",
            "Epoch 46/200\n",
            "686/686 [==============================] - 4s 6ms/step - loss: 0.4121 - accuracy: 0.8413 - val_loss: 0.4292 - val_accuracy: 0.8370\n",
            "Epoch 47/200\n",
            "686/686 [==============================] - 4s 6ms/step - loss: 0.4108 - accuracy: 0.8408 - val_loss: 0.4294 - val_accuracy: 0.8368\n",
            "Epoch 48/200\n",
            "686/686 [==============================] - 4s 6ms/step - loss: 0.4097 - accuracy: 0.8419 - val_loss: 0.4292 - val_accuracy: 0.8366\n",
            "Epoch 49/200\n",
            "686/686 [==============================] - 4s 6ms/step - loss: 0.4072 - accuracy: 0.8424 - val_loss: 0.4278 - val_accuracy: 0.8368\n",
            "Epoch 50/200\n",
            "686/686 [==============================] - 4s 6ms/step - loss: 0.4094 - accuracy: 0.8415 - val_loss: 0.4332 - val_accuracy: 0.8341\n",
            "Epoch 51/200\n",
            "686/686 [==============================] - 4s 6ms/step - loss: 0.4068 - accuracy: 0.8421 - val_loss: 0.4270 - val_accuracy: 0.8377\n",
            "Epoch 52/200\n",
            "686/686 [==============================] - 4s 6ms/step - loss: 0.4056 - accuracy: 0.8435 - val_loss: 0.4285 - val_accuracy: 0.8355\n",
            "Epoch 53/200\n",
            "686/686 [==============================] - 4s 6ms/step - loss: 0.4050 - accuracy: 0.8429 - val_loss: 0.4286 - val_accuracy: 0.8374\n",
            "Epoch 54/200\n",
            "686/686 [==============================] - 4s 6ms/step - loss: 0.4041 - accuracy: 0.8451 - val_loss: 0.4317 - val_accuracy: 0.8367\n",
            "Epoch 55/200\n",
            "686/686 [==============================] - 4s 6ms/step - loss: 0.4055 - accuracy: 0.8434 - val_loss: 0.4265 - val_accuracy: 0.8371\n",
            "Epoch 56/200\n",
            "686/686 [==============================] - 4s 6ms/step - loss: 0.4040 - accuracy: 0.8434 - val_loss: 0.4255 - val_accuracy: 0.8391\n",
            "Epoch 57/200\n",
            "686/686 [==============================] - 4s 6ms/step - loss: 0.4028 - accuracy: 0.8439 - val_loss: 0.4276 - val_accuracy: 0.8392\n",
            "Epoch 58/200\n",
            "686/686 [==============================] - 4s 6ms/step - loss: 0.3999 - accuracy: 0.8454 - val_loss: 0.4248 - val_accuracy: 0.8390\n",
            "Epoch 59/200\n",
            "686/686 [==============================] - 4s 6ms/step - loss: 0.4020 - accuracy: 0.8441 - val_loss: 0.4250 - val_accuracy: 0.8387\n",
            "Epoch 60/200\n",
            "686/686 [==============================] - 4s 6ms/step - loss: 0.3999 - accuracy: 0.8450 - val_loss: 0.4239 - val_accuracy: 0.8388\n",
            "Epoch 61/200\n",
            "686/686 [==============================] - 4s 6ms/step - loss: 0.3997 - accuracy: 0.8446 - val_loss: 0.4230 - val_accuracy: 0.8422\n",
            "Epoch 62/200\n",
            "686/686 [==============================] - 4s 6ms/step - loss: 0.3994 - accuracy: 0.8452 - val_loss: 0.4225 - val_accuracy: 0.8424\n",
            "Epoch 63/200\n",
            "686/686 [==============================] - 4s 6ms/step - loss: 0.3988 - accuracy: 0.8445 - val_loss: 0.4241 - val_accuracy: 0.8388\n",
            "Epoch 64/200\n",
            "686/686 [==============================] - 4s 6ms/step - loss: 0.3962 - accuracy: 0.8466 - val_loss: 0.4217 - val_accuracy: 0.8417\n",
            "Epoch 65/200\n",
            "686/686 [==============================] - 4s 6ms/step - loss: 0.3977 - accuracy: 0.8454 - val_loss: 0.4210 - val_accuracy: 0.8413\n",
            "Epoch 66/200\n",
            "686/686 [==============================] - 4s 6ms/step - loss: 0.3958 - accuracy: 0.8464 - val_loss: 0.4197 - val_accuracy: 0.8416\n",
            "Epoch 67/200\n",
            "686/686 [==============================] - 4s 6ms/step - loss: 0.3957 - accuracy: 0.8467 - val_loss: 0.4227 - val_accuracy: 0.8413\n",
            "Epoch 68/200\n",
            "686/686 [==============================] - 4s 6ms/step - loss: 0.3962 - accuracy: 0.8473 - val_loss: 0.4210 - val_accuracy: 0.8426\n",
            "Epoch 69/200\n",
            "686/686 [==============================] - 4s 6ms/step - loss: 0.3937 - accuracy: 0.8474 - val_loss: 0.4200 - val_accuracy: 0.8424\n",
            "Epoch 70/200\n",
            "686/686 [==============================] - 4s 6ms/step - loss: 0.3925 - accuracy: 0.8472 - val_loss: 0.4203 - val_accuracy: 0.8432\n",
            "Epoch 71/200\n",
            "686/686 [==============================] - 4s 6ms/step - loss: 0.3919 - accuracy: 0.8489 - val_loss: 0.4239 - val_accuracy: 0.8423\n",
            "Epoch 72/200\n",
            "686/686 [==============================] - 4s 6ms/step - loss: 0.3906 - accuracy: 0.8491 - val_loss: 0.4213 - val_accuracy: 0.8415\n",
            "Epoch 73/200\n",
            "686/686 [==============================] - 4s 6ms/step - loss: 0.3905 - accuracy: 0.8488 - val_loss: 0.4243 - val_accuracy: 0.8420\n",
            "Epoch 74/200\n",
            "686/686 [==============================] - 4s 6ms/step - loss: 0.3914 - accuracy: 0.8485 - val_loss: 0.4205 - val_accuracy: 0.8443\n",
            "Epoch 75/200\n",
            "686/686 [==============================] - 4s 6ms/step - loss: 0.3927 - accuracy: 0.8479 - val_loss: 0.4226 - val_accuracy: 0.8410\n",
            "Epoch 76/200\n",
            "686/686 [==============================] - 4s 6ms/step - loss: 0.3888 - accuracy: 0.8490 - val_loss: 0.4198 - val_accuracy: 0.8431\n"
          ]
        }
      ],
      "source": [
        "X_train_pad = pad_sequences(sequences_train, maxlen=250, padding='post', truncating='post')\n",
        "X_val_pad = pad_sequences(sequences_val, maxlen=250, padding='post', truncating='post')\n",
        "X_test_pad = pad_sequences(sequences_test, maxlen=250, padding='post', truncating='post')\n",
        "\n",
        "num_words = min(30000, len(tokenizer.word_index) + 1)\n",
        "embedding_dim = fasttext_model.vector_size\n",
        "embedding_matrix = np.zeros((num_words, embedding_dim))\n",
        "for word, i in tokenizer.word_index.items():\n",
        "    if i >= num_words:\n",
        "        continue\n",
        "    if word in fasttext_model.wv:  # Here's the modification\n",
        "        embedding_matrix[i] = fasttext_model.wv[word]\n",
        "\n",
        "sequence_input = Input(shape=(250,))\n",
        "embedding_layer = Embedding(num_words, embedding_dim, weights=[embedding_matrix], input_length=250, trainable=False)\n",
        "embedded_sequences = embedding_layer(sequence_input)\n",
        "drop_out_1 = Dropout(0.3, name='drop_out_1')(embedded_sequences)\n",
        "conv_1 = Conv1D(64, 2, activation='relu', name='conv_1')(drop_out_1)\n",
        "gmp_1 = GlobalMaxPooling1D(name='gmp_1')(conv_1)\n",
        "conv_2 = Conv1D(64, 3, activation='relu', name='conv_2')(drop_out_1)\n",
        "gmp_2 = GlobalMaxPooling1D(name='gmp_2')(conv_2)\n",
        "conv_3 = Conv1D(64, 5, activation='relu', name='conv_3')(drop_out_1)\n",
        "gmp_3 = GlobalMaxPooling1D(name='gmp_3')(conv_3)\n",
        "concat = Concatenate()([gmp_1, gmp_2, gmp_3])\n",
        "drop_out_2 = Dropout(0.3, name='drop_out_2')(concat)\n",
        "dense = Dense(128, activation='relu', name='dense')(drop_out_2)\n",
        "preds = Dense(3, activation='softmax', name='preds')(dense)\n",
        "model = Model(sequence_input, preds)\n",
        "\n",
        "optimizer = Adam(learning_rate=0.001)\n",
        "model.compile(optimizer=optimizer, loss='sparse_categorical_crossentropy', metrics=['accuracy'])\n",
        "\n",
        "early_stopping = EarlyStopping(patience=10)\n",
        "\n",
        "history = model.fit(X_train_pad, y_train, validation_data=(X_val_pad, y_val), epochs=200, batch_size=200, callbacks=[early_stopping])"
      ]
    },
    {
      "cell_type": "code",
      "execution_count": 8,
      "id": "5P3wHo1YkwnU",
      "metadata": {
        "colab": {
          "base_uri": "https://localhost:8080/",
          "height": 755
        },
        "id": "5P3wHo1YkwnU",
        "outputId": "f71030d9-4151-462f-d987-ff7455642489"
      },
      "outputs": [
        {
          "name": "stdout",
          "output_type": "stream",
          "text": [
            "1681/1681 [==============================] - 3s 2ms/step\n"
          ]
        },
        {
          "data": {
            "image/png": "[encoded data removed]",
            "text/plain": [
              "<Figure size 800x600 with 2 Axes>"
            ]
          },
          "metadata": {},
          "output_type": "display_data"
        },
        {
          "name": "stdout",
          "output_type": "stream",
          "text": [
            "              precision    recall  f1-score   support\n",
            "\n",
            "           0       0.78      0.81      0.80     13497\n",
            "           1       0.54      0.14      0.23      4829\n",
            "           2       0.87      0.95      0.91     35440\n",
            "\n",
            "    accuracy                           0.84     53766\n",
            "   macro avg       0.73      0.63      0.64     53766\n",
            "weighted avg       0.82      0.84      0.82     53766\n",
            "\n"
          ]
        }
      ],
      "source": [
        "y_pred_prob = model.predict(X_test_pad)\n",
        "y_pred_labels = y_pred_prob.argmax(axis=1)\n",
        "cm = confusion_matrix(y_test, y_pred_labels)\n",
        "\n",
        "labels = ['Negative', 'Neutral', 'Positive']\n",
        "\n",
        "fig, ax = plt.subplots(figsize=(8, 6))\n",
        "sns.heatmap(cm, annot=True, cmap='Blues', fmt='g', xticklabels=labels, yticklabels=labels, ax=ax)\n",
        "\n",
        "ax.set_title('Confusion Matrix')\n",
        "ax.set_xlabel('Predicted Label')\n",
        "ax.set_ylabel('True Label')\n",
        "\n",
        "plt.show()\n",
        "\n",
        "print(classification_report(y_test, y_pred_labels))"
      ]
    },
    {
      "cell_type": "code",
      "execution_count": 9,
      "id": "kvy6NaibAytf",
      "metadata": {
        "colab": {
          "base_uri": "https://localhost:8080/"
        },
        "id": "kvy6NaibAytf",
        "outputId": "b9d25829-77aa-43bb-ae11-d4c284eb7953"
      },
      "outputs": [
        {
          "name": "stdout",
          "output_type": "stream",
          "text": [
            "Micro-average F1 score: 0.8432838596882788\n"
          ]
        }
      ],
      "source": [
        "micro_avg_f1 = f1_score(y_test, y_pred_labels, average='micro')\n",
        "print(\"Micro-average F1 score:\", micro_avg_f1)"
      ]
    },
    {
      "cell_type": "markdown",
      "id": "3GiWmpT-f8sB",
      "metadata": {
        "id": "3GiWmpT-f8sB"
      },
      "source": [
        "#With batch normalization"
      ]
    },
    {
      "cell_type": "code",
      "execution_count": 11,
      "id": "CDaA_WMthiwi",
      "metadata": {
        "colab": {
          "base_uri": "https://localhost:8080/"
        },
        "id": "CDaA_WMthiwi",
        "outputId": "b3bd993b-46b9-4405-a6a4-65a88c388b92"
      },
      "outputs": [
        {
          "name": "stdout",
          "output_type": "stream",
          "text": [
            "Epoch 1/200\n",
            "686/686 [==============================] - 7s 8ms/step - loss: 1.0283 - accuracy: 0.6273 - val_loss: 0.7495 - val_accuracy: 0.6753\n",
            "Epoch 2/200\n",
            "686/686 [==============================] - 5s 7ms/step - loss: 0.7415 - accuracy: 0.6988 - val_loss: 0.6643 - val_accuracy: 0.7307\n",
            "Epoch 3/200\n",
            "686/686 [==============================] - 5s 7ms/step - loss: 0.6930 - accuracy: 0.7246 - val_loss: 0.6277 - val_accuracy: 0.7479\n",
            "Epoch 4/200\n",
            "686/686 [==============================] - 5s 7ms/step - loss: 0.6545 - accuracy: 0.7436 - val_loss: 0.5985 - val_accuracy: 0.7658\n",
            "Epoch 5/200\n",
            "686/686 [==============================] - 5s 7ms/step - loss: 0.6317 - accuracy: 0.7557 - val_loss: 0.5798 - val_accuracy: 0.7826\n",
            "Epoch 6/200\n",
            "686/686 [==============================] - 5s 7ms/step - loss: 0.6153 - accuracy: 0.7618 - val_loss: 0.5705 - val_accuracy: 0.7864\n",
            "Epoch 7/200\n",
            "686/686 [==============================] - 5s 7ms/step - loss: 0.6018 - accuracy: 0.7681 - val_loss: 0.5504 - val_accuracy: 0.7898\n",
            "Epoch 8/200\n",
            "686/686 [==============================] - 5s 7ms/step - loss: 0.5914 - accuracy: 0.7734 - val_loss: 0.5430 - val_accuracy: 0.7918\n",
            "Epoch 9/200\n",
            "686/686 [==============================] - 5s 7ms/step - loss: 0.5810 - accuracy: 0.7772 - val_loss: 0.5380 - val_accuracy: 0.7972\n",
            "Epoch 10/200\n",
            "686/686 [==============================] - 5s 7ms/step - loss: 0.5714 - accuracy: 0.7802 - val_loss: 0.5372 - val_accuracy: 0.7987\n",
            "Epoch 11/200\n",
            "686/686 [==============================] - 5s 7ms/step - loss: 0.5639 - accuracy: 0.7841 - val_loss: 0.5263 - val_accuracy: 0.7968\n",
            "Epoch 12/200\n",
            "686/686 [==============================] - 5s 7ms/step - loss: 0.5577 - accuracy: 0.7866 - val_loss: 0.5339 - val_accuracy: 0.8009\n",
            "Epoch 13/200\n",
            "686/686 [==============================] - 5s 7ms/step - loss: 0.5540 - accuracy: 0.7882 - val_loss: 0.5175 - val_accuracy: 0.8020\n",
            "Epoch 14/200\n",
            "686/686 [==============================] - 5s 7ms/step - loss: 0.5462 - accuracy: 0.7914 - val_loss: 0.5121 - val_accuracy: 0.8042\n",
            "Epoch 15/200\n",
            "686/686 [==============================] - 5s 7ms/step - loss: 0.5406 - accuracy: 0.7927 - val_loss: 0.5105 - val_accuracy: 0.8037\n",
            "Epoch 16/200\n",
            "686/686 [==============================] - 5s 7ms/step - loss: 0.5368 - accuracy: 0.7949 - val_loss: 0.5076 - val_accuracy: 0.8068\n",
            "Epoch 17/200\n",
            "686/686 [==============================] - 5s 8ms/step - loss: 0.5314 - accuracy: 0.7962 - val_loss: 0.5006 - val_accuracy: 0.8069\n",
            "Epoch 18/200\n",
            "686/686 [==============================] - 5s 7ms/step - loss: 0.5261 - accuracy: 0.7992 - val_loss: 0.4987 - val_accuracy: 0.8090\n",
            "Epoch 19/200\n",
            "686/686 [==============================] - 5s 8ms/step - loss: 0.5237 - accuracy: 0.7993 - val_loss: 0.4966 - val_accuracy: 0.8106\n",
            "Epoch 20/200\n",
            "686/686 [==============================] - 5s 7ms/step - loss: 0.5218 - accuracy: 0.8001 - val_loss: 0.4991 - val_accuracy: 0.8087\n",
            "Epoch 21/200\n",
            "686/686 [==============================] - 5s 7ms/step - loss: 0.5159 - accuracy: 0.8021 - val_loss: 0.5023 - val_accuracy: 0.8100\n",
            "Epoch 22/200\n",
            "686/686 [==============================] - 5s 8ms/step - loss: 0.5118 - accuracy: 0.8032 - val_loss: 0.4934 - val_accuracy: 0.8112\n",
            "Epoch 23/200\n",
            "686/686 [==============================] - 5s 7ms/step - loss: 0.5091 - accuracy: 0.8047 - val_loss: 0.4884 - val_accuracy: 0.8126\n",
            "Epoch 24/200\n",
            "686/686 [==============================] - 5s 7ms/step - loss: 0.5073 - accuracy: 0.8053 - val_loss: 0.4924 - val_accuracy: 0.8146\n",
            "Epoch 25/200\n",
            "686/686 [==============================] - 5s 8ms/step - loss: 0.5032 - accuracy: 0.8075 - val_loss: 0.4889 - val_accuracy: 0.8151\n",
            "Epoch 26/200\n",
            "686/686 [==============================] - 5s 7ms/step - loss: 0.5021 - accuracy: 0.8079 - val_loss: 0.4845 - val_accuracy: 0.8143\n",
            "Epoch 27/200\n",
            "686/686 [==============================] - 5s 7ms/step - loss: 0.4985 - accuracy: 0.8083 - val_loss: 0.4845 - val_accuracy: 0.8161\n",
            "Epoch 28/200\n",
            "686/686 [==============================] - 5s 7ms/step - loss: 0.4935 - accuracy: 0.8108 - val_loss: 0.4825 - val_accuracy: 0.8143\n",
            "Epoch 29/200\n",
            "686/686 [==============================] - 5s 8ms/step - loss: 0.4919 - accuracy: 0.8107 - val_loss: 0.4808 - val_accuracy: 0.8176\n",
            "Epoch 30/200\n",
            "686/686 [==============================] - 5s 7ms/step - loss: 0.4883 - accuracy: 0.8119 - val_loss: 0.4784 - val_accuracy: 0.8155\n",
            "Epoch 31/200\n",
            "686/686 [==============================] - 5s 8ms/step - loss: 0.4877 - accuracy: 0.8124 - val_loss: 0.4831 - val_accuracy: 0.8145\n",
            "Epoch 32/200\n",
            "686/686 [==============================] - 5s 7ms/step - loss: 0.4851 - accuracy: 0.8129 - val_loss: 0.4761 - val_accuracy: 0.8176\n",
            "Epoch 33/200\n",
            "686/686 [==============================] - 5s 7ms/step - loss: 0.4810 - accuracy: 0.8139 - val_loss: 0.4723 - val_accuracy: 0.8193\n",
            "Epoch 34/200\n",
            "686/686 [==============================] - 5s 7ms/step - loss: 0.4789 - accuracy: 0.8168 - val_loss: 0.4765 - val_accuracy: 0.8170\n",
            "Epoch 35/200\n",
            "686/686 [==============================] - 5s 7ms/step - loss: 0.4776 - accuracy: 0.8162 - val_loss: 0.4699 - val_accuracy: 0.8190\n",
            "Epoch 36/200\n",
            "686/686 [==============================] - 5s 7ms/step - loss: 0.4759 - accuracy: 0.8162 - val_loss: 0.4706 - val_accuracy: 0.8208\n",
            "Epoch 37/200\n",
            "686/686 [==============================] - 5s 7ms/step - loss: 0.4758 - accuracy: 0.8169 - val_loss: 0.4687 - val_accuracy: 0.8192\n",
            "Epoch 38/200\n",
            "686/686 [==============================] - 5s 7ms/step - loss: 0.4702 - accuracy: 0.8197 - val_loss: 0.4693 - val_accuracy: 0.8204\n",
            "Epoch 39/200\n",
            "686/686 [==============================] - 5s 8ms/step - loss: 0.4685 - accuracy: 0.8198 - val_loss: 0.4714 - val_accuracy: 0.8190\n",
            "Epoch 40/200\n",
            "686/686 [==============================] - 5s 7ms/step - loss: 0.4684 - accuracy: 0.8195 - val_loss: 0.4685 - val_accuracy: 0.8222\n",
            "Epoch 41/200\n",
            "686/686 [==============================] - 5s 7ms/step - loss: 0.4656 - accuracy: 0.8208 - val_loss: 0.4673 - val_accuracy: 0.8204\n",
            "Epoch 42/200\n",
            "686/686 [==============================] - 5s 8ms/step - loss: 0.4637 - accuracy: 0.8204 - val_loss: 0.4651 - val_accuracy: 0.8219\n",
            "Epoch 43/200\n",
            "686/686 [==============================] - 5s 7ms/step - loss: 0.4601 - accuracy: 0.8227 - val_loss: 0.4643 - val_accuracy: 0.8236\n",
            "Epoch 44/200\n",
            "686/686 [==============================] - 5s 7ms/step - loss: 0.4594 - accuracy: 0.8226 - val_loss: 0.4677 - val_accuracy: 0.8210\n",
            "Epoch 45/200\n",
            "686/686 [==============================] - 5s 7ms/step - loss: 0.4572 - accuracy: 0.8230 - val_loss: 0.4616 - val_accuracy: 0.8236\n",
            "Epoch 46/200\n",
            "686/686 [==============================] - 5s 8ms/step - loss: 0.4572 - accuracy: 0.8240 - val_loss: 0.4601 - val_accuracy: 0.8246\n",
            "Epoch 47/200\n",
            "686/686 [==============================] - 5s 7ms/step - loss: 0.4554 - accuracy: 0.8243 - val_loss: 0.4574 - val_accuracy: 0.8260\n",
            "Epoch 48/200\n",
            "686/686 [==============================] - 5s 7ms/step - loss: 0.4538 - accuracy: 0.8242 - val_loss: 0.4653 - val_accuracy: 0.8226\n",
            "Epoch 49/200\n",
            "686/686 [==============================] - 5s 7ms/step - loss: 0.4527 - accuracy: 0.8249 - val_loss: 0.4581 - val_accuracy: 0.8257\n",
            "Epoch 50/200\n",
            "686/686 [==============================] - 5s 7ms/step - loss: 0.4513 - accuracy: 0.8251 - val_loss: 0.4543 - val_accuracy: 0.8272\n",
            "Epoch 51/200\n",
            "686/686 [==============================] - 5s 7ms/step - loss: 0.4491 - accuracy: 0.8261 - val_loss: 0.4582 - val_accuracy: 0.8275\n",
            "Epoch 52/200\n",
            "686/686 [==============================] - 5s 7ms/step - loss: 0.4474 - accuracy: 0.8268 - val_loss: 0.4566 - val_accuracy: 0.8259\n",
            "Epoch 53/200\n",
            "686/686 [==============================] - 5s 7ms/step - loss: 0.4449 - accuracy: 0.8277 - val_loss: 0.4569 - val_accuracy: 0.8258\n",
            "Epoch 54/200\n",
            "686/686 [==============================] - 5s 7ms/step - loss: 0.4475 - accuracy: 0.8267 - val_loss: 0.4532 - val_accuracy: 0.8270\n",
            "Epoch 55/200\n",
            "686/686 [==============================] - 5s 7ms/step - loss: 0.4459 - accuracy: 0.8271 - val_loss: 0.4536 - val_accuracy: 0.8272\n",
            "Epoch 56/200\n",
            "686/686 [==============================] - 5s 7ms/step - loss: 0.4430 - accuracy: 0.8286 - val_loss: 0.4548 - val_accuracy: 0.8271\n",
            "Epoch 57/200\n",
            "686/686 [==============================] - 5s 7ms/step - loss: 0.4416 - accuracy: 0.8287 - val_loss: 0.4563 - val_accuracy: 0.8249\n",
            "Epoch 58/200\n",
            "686/686 [==============================] - 5s 8ms/step - loss: 0.4404 - accuracy: 0.8305 - val_loss: 0.4547 - val_accuracy: 0.8259\n",
            "Epoch 59/200\n",
            "686/686 [==============================] - 5s 8ms/step - loss: 0.4405 - accuracy: 0.8289 - val_loss: 0.4564 - val_accuracy: 0.8252\n",
            "Epoch 60/200\n",
            "686/686 [==============================] - 5s 7ms/step - loss: 0.4372 - accuracy: 0.8307 - val_loss: 0.4490 - val_accuracy: 0.8297\n",
            "Epoch 61/200\n",
            "686/686 [==============================] - 5s 7ms/step - loss: 0.4359 - accuracy: 0.8314 - val_loss: 0.4513 - val_accuracy: 0.8278\n",
            "Epoch 62/200\n",
            "686/686 [==============================] - 5s 7ms/step - loss: 0.4346 - accuracy: 0.8323 - val_loss: 0.4521 - val_accuracy: 0.8277\n",
            "Epoch 63/200\n",
            "686/686 [==============================] - 5s 7ms/step - loss: 0.4353 - accuracy: 0.8311 - val_loss: 0.4480 - val_accuracy: 0.8308\n",
            "Epoch 64/200\n",
            "686/686 [==============================] - 5s 7ms/step - loss: 0.4339 - accuracy: 0.8318 - val_loss: 0.4505 - val_accuracy: 0.8285\n",
            "Epoch 65/200\n",
            "686/686 [==============================] - 5s 8ms/step - loss: 0.4322 - accuracy: 0.8334 - val_loss: 0.4500 - val_accuracy: 0.8285\n",
            "Epoch 66/200\n",
            "686/686 [==============================] - 5s 7ms/step - loss: 0.4327 - accuracy: 0.8326 - val_loss: 0.4526 - val_accuracy: 0.8289\n",
            "Epoch 67/200\n",
            "686/686 [==============================] - 5s 7ms/step - loss: 0.4327 - accuracy: 0.8324 - val_loss: 0.4468 - val_accuracy: 0.8312\n",
            "Epoch 68/200\n",
            "686/686 [==============================] - 5s 7ms/step - loss: 0.4318 - accuracy: 0.8332 - val_loss: 0.4463 - val_accuracy: 0.8303\n",
            "Epoch 69/200\n",
            "686/686 [==============================] - 5s 7ms/step - loss: 0.4288 - accuracy: 0.8338 - val_loss: 0.4503 - val_accuracy: 0.8299\n",
            "Epoch 70/200\n",
            "686/686 [==============================] - 5s 7ms/step - loss: 0.4295 - accuracy: 0.8331 - val_loss: 0.4484 - val_accuracy: 0.8310\n",
            "Epoch 71/200\n",
            "686/686 [==============================] - 5s 7ms/step - loss: 0.4287 - accuracy: 0.8347 - val_loss: 0.4456 - val_accuracy: 0.8315\n",
            "Epoch 72/200\n",
            "686/686 [==============================] - 5s 8ms/step - loss: 0.4285 - accuracy: 0.8348 - val_loss: 0.4445 - val_accuracy: 0.8321\n",
            "Epoch 73/200\n",
            "686/686 [==============================] - 5s 8ms/step - loss: 0.4255 - accuracy: 0.8361 - val_loss: 0.4511 - val_accuracy: 0.8303\n",
            "Epoch 74/200\n",
            "686/686 [==============================] - 5s 7ms/step - loss: 0.4241 - accuracy: 0.8354 - val_loss: 0.4467 - val_accuracy: 0.8312\n",
            "Epoch 75/200\n",
            "686/686 [==============================] - 5s 7ms/step - loss: 0.4235 - accuracy: 0.8363 - val_loss: 0.4441 - val_accuracy: 0.8315\n",
            "Epoch 76/200\n",
            "686/686 [==============================] - 5s 7ms/step - loss: 0.4206 - accuracy: 0.8367 - val_loss: 0.4460 - val_accuracy: 0.8322\n",
            "Epoch 77/200\n",
            "686/686 [==============================] - 5s 7ms/step - loss: 0.4224 - accuracy: 0.8351 - val_loss: 0.4423 - val_accuracy: 0.8326\n",
            "Epoch 78/200\n",
            "686/686 [==============================] - 5s 7ms/step - loss: 0.4239 - accuracy: 0.8358 - val_loss: 0.4404 - val_accuracy: 0.8329\n",
            "Epoch 79/200\n",
            "686/686 [==============================] - 5s 7ms/step - loss: 0.4217 - accuracy: 0.8367 - val_loss: 0.4424 - val_accuracy: 0.8320\n",
            "Epoch 80/200\n",
            "686/686 [==============================] - 5s 7ms/step - loss: 0.4222 - accuracy: 0.8367 - val_loss: 0.4462 - val_accuracy: 0.8322\n",
            "Epoch 81/200\n",
            "686/686 [==============================] - 5s 7ms/step - loss: 0.4197 - accuracy: 0.8376 - val_loss: 0.4433 - val_accuracy: 0.8323\n",
            "Epoch 82/200\n",
            "686/686 [==============================] - 5s 7ms/step - loss: 0.4163 - accuracy: 0.8386 - val_loss: 0.4459 - val_accuracy: 0.8314\n",
            "Epoch 83/200\n",
            "686/686 [==============================] - 5s 7ms/step - loss: 0.4195 - accuracy: 0.8382 - val_loss: 0.4399 - val_accuracy: 0.8339\n",
            "Epoch 84/200\n",
            "686/686 [==============================] - 5s 7ms/step - loss: 0.4188 - accuracy: 0.8375 - val_loss: 0.4434 - val_accuracy: 0.8315\n",
            "Epoch 85/200\n",
            "686/686 [==============================] - 5s 7ms/step - loss: 0.4185 - accuracy: 0.8378 - val_loss: 0.4464 - val_accuracy: 0.8324\n",
            "Epoch 86/200\n",
            "686/686 [==============================] - 5s 7ms/step - loss: 0.4167 - accuracy: 0.8394 - val_loss: 0.4424 - val_accuracy: 0.8342\n",
            "Epoch 87/200\n",
            "686/686 [==============================] - 5s 7ms/step - loss: 0.4136 - accuracy: 0.8398 - val_loss: 0.4403 - val_accuracy: 0.8336\n",
            "Epoch 88/200\n",
            "686/686 [==============================] - 5s 7ms/step - loss: 0.4147 - accuracy: 0.8390 - val_loss: 0.4390 - val_accuracy: 0.8349\n",
            "Epoch 89/200\n",
            "686/686 [==============================] - 5s 7ms/step - loss: 0.4149 - accuracy: 0.8391 - val_loss: 0.4373 - val_accuracy: 0.8344\n",
            "Epoch 90/200\n",
            "686/686 [==============================] - 5s 7ms/step - loss: 0.4145 - accuracy: 0.8394 - val_loss: 0.4373 - val_accuracy: 0.8350\n",
            "Epoch 91/200\n",
            "686/686 [==============================] - 5s 7ms/step - loss: 0.4138 - accuracy: 0.8404 - val_loss: 0.4380 - val_accuracy: 0.8339\n",
            "Epoch 92/200\n",
            "686/686 [==============================] - 5s 7ms/step - loss: 0.4121 - accuracy: 0.8400 - val_loss: 0.4349 - val_accuracy: 0.8356\n",
            "Epoch 93/200\n",
            "686/686 [==============================] - 5s 7ms/step - loss: 0.4115 - accuracy: 0.8406 - val_loss: 0.4389 - val_accuracy: 0.8346\n",
            "Epoch 94/200\n",
            "686/686 [==============================] - 5s 7ms/step - loss: 0.4113 - accuracy: 0.8403 - val_loss: 0.4370 - val_accuracy: 0.8342\n",
            "Epoch 95/200\n",
            "686/686 [==============================] - 5s 7ms/step - loss: 0.4100 - accuracy: 0.8413 - val_loss: 0.4371 - val_accuracy: 0.8349\n",
            "Epoch 96/200\n",
            "686/686 [==============================] - 5s 7ms/step - loss: 0.4083 - accuracy: 0.8412 - val_loss: 0.4406 - val_accuracy: 0.8346\n",
            "Epoch 97/200\n",
            "686/686 [==============================] - 5s 8ms/step - loss: 0.4085 - accuracy: 0.8415 - val_loss: 0.4405 - val_accuracy: 0.8348\n",
            "Epoch 98/200\n",
            "686/686 [==============================] - 5s 8ms/step - loss: 0.4087 - accuracy: 0.8417 - val_loss: 0.4334 - val_accuracy: 0.8370\n",
            "Epoch 99/200\n",
            "686/686 [==============================] - 5s 7ms/step - loss: 0.4073 - accuracy: 0.8419 - val_loss: 0.4400 - val_accuracy: 0.8358\n",
            "Epoch 100/200\n",
            "686/686 [==============================] - 5s 7ms/step - loss: 0.4069 - accuracy: 0.8421 - val_loss: 0.4347 - val_accuracy: 0.8356\n",
            "Epoch 101/200\n",
            "686/686 [==============================] - 5s 8ms/step - loss: 0.4083 - accuracy: 0.8418 - val_loss: 0.4367 - val_accuracy: 0.8359\n",
            "Epoch 102/200\n",
            "686/686 [==============================] - 5s 7ms/step - loss: 0.4064 - accuracy: 0.8425 - val_loss: 0.4383 - val_accuracy: 0.8365\n",
            "Epoch 103/200\n",
            "686/686 [==============================] - 5s 7ms/step - loss: 0.4061 - accuracy: 0.8428 - val_loss: 0.4342 - val_accuracy: 0.8364\n",
            "Epoch 104/200\n",
            "686/686 [==============================] - 5s 8ms/step - loss: 0.4048 - accuracy: 0.8433 - val_loss: 0.4332 - val_accuracy: 0.8375\n",
            "Epoch 105/200\n",
            "686/686 [==============================] - 5s 7ms/step - loss: 0.4049 - accuracy: 0.8427 - val_loss: 0.4377 - val_accuracy: 0.8374\n",
            "Epoch 106/200\n",
            "686/686 [==============================] - 5s 7ms/step - loss: 0.4046 - accuracy: 0.8440 - val_loss: 0.4353 - val_accuracy: 0.8378\n",
            "Epoch 107/200\n",
            "686/686 [==============================] - 5s 7ms/step - loss: 0.4069 - accuracy: 0.8434 - val_loss: 0.4323 - val_accuracy: 0.8377\n",
            "Epoch 108/200\n",
            "686/686 [==============================] - 5s 7ms/step - loss: 0.4021 - accuracy: 0.8434 - val_loss: 0.4352 - val_accuracy: 0.8368\n",
            "Epoch 109/200\n",
            "686/686 [==============================] - 5s 7ms/step - loss: 0.4039 - accuracy: 0.8432 - val_loss: 0.4300 - val_accuracy: 0.8356\n",
            "Epoch 110/200\n",
            "686/686 [==============================] - 5s 7ms/step - loss: 0.4023 - accuracy: 0.8448 - val_loss: 0.4321 - val_accuracy: 0.8376\n",
            "Epoch 111/200\n",
            "686/686 [==============================] - 5s 7ms/step - loss: 0.4021 - accuracy: 0.8449 - val_loss: 0.4351 - val_accuracy: 0.8382\n",
            "Epoch 112/200\n",
            "686/686 [==============================] - 5s 7ms/step - loss: 0.4014 - accuracy: 0.8441 - val_loss: 0.4345 - val_accuracy: 0.8373\n",
            "Epoch 113/200\n",
            "686/686 [==============================] - 5s 7ms/step - loss: 0.4007 - accuracy: 0.8453 - val_loss: 0.4347 - val_accuracy: 0.8368\n",
            "Epoch 114/200\n",
            "686/686 [==============================] - 5s 7ms/step - loss: 0.4005 - accuracy: 0.8449 - val_loss: 0.4342 - val_accuracy: 0.8360\n",
            "Epoch 115/200\n",
            "686/686 [==============================] - 5s 7ms/step - loss: 0.4022 - accuracy: 0.8442 - val_loss: 0.4310 - val_accuracy: 0.8402\n",
            "Epoch 116/200\n",
            "686/686 [==============================] - 5s 7ms/step - loss: 0.4005 - accuracy: 0.8442 - val_loss: 0.4299 - val_accuracy: 0.8406\n",
            "Epoch 117/200\n",
            "686/686 [==============================] - 5s 7ms/step - loss: 0.3993 - accuracy: 0.8446 - val_loss: 0.4360 - val_accuracy: 0.8389\n",
            "Epoch 118/200\n",
            "686/686 [==============================] - 5s 8ms/step - loss: 0.3981 - accuracy: 0.8453 - val_loss: 0.4275 - val_accuracy: 0.8403\n",
            "Epoch 119/200\n",
            "686/686 [==============================] - 5s 8ms/step - loss: 0.3997 - accuracy: 0.8456 - val_loss: 0.4339 - val_accuracy: 0.8387\n",
            "Epoch 120/200\n",
            "686/686 [==============================] - 5s 7ms/step - loss: 0.3995 - accuracy: 0.8453 - val_loss: 0.4306 - val_accuracy: 0.8396\n",
            "Epoch 121/200\n",
            "686/686 [==============================] - 5s 7ms/step - loss: 0.3960 - accuracy: 0.8455 - val_loss: 0.4364 - val_accuracy: 0.8398\n",
            "Epoch 122/200\n",
            "686/686 [==============================] - 5s 7ms/step - loss: 0.3981 - accuracy: 0.8468 - val_loss: 0.4305 - val_accuracy: 0.8396\n",
            "Epoch 123/200\n",
            "686/686 [==============================] - 5s 7ms/step - loss: 0.3967 - accuracy: 0.8460 - val_loss: 0.4309 - val_accuracy: 0.8389\n",
            "Epoch 124/200\n",
            "686/686 [==============================] - 5s 7ms/step - loss: 0.3969 - accuracy: 0.8457 - val_loss: 0.4270 - val_accuracy: 0.8412\n",
            "Epoch 125/200\n",
            "686/686 [==============================] - 5s 7ms/step - loss: 0.3990 - accuracy: 0.8451 - val_loss: 0.4293 - val_accuracy: 0.8410\n",
            "Epoch 126/200\n",
            "686/686 [==============================] - 5s 7ms/step - loss: 0.3940 - accuracy: 0.8480 - val_loss: 0.4308 - val_accuracy: 0.8400\n",
            "Epoch 127/200\n",
            "686/686 [==============================] - 5s 7ms/step - loss: 0.3987 - accuracy: 0.8451 - val_loss: 0.4284 - val_accuracy: 0.8405\n",
            "Epoch 128/200\n",
            "686/686 [==============================] - 5s 7ms/step - loss: 0.3938 - accuracy: 0.8476 - val_loss: 0.4308 - val_accuracy: 0.8382\n",
            "Epoch 129/200\n",
            "686/686 [==============================] - 5s 8ms/step - loss: 0.3948 - accuracy: 0.8466 - val_loss: 0.4326 - val_accuracy: 0.8403\n",
            "Epoch 130/200\n",
            "686/686 [==============================] - 5s 7ms/step - loss: 0.3952 - accuracy: 0.8468 - val_loss: 0.4311 - val_accuracy: 0.8382\n",
            "Epoch 131/200\n",
            "686/686 [==============================] - 5s 7ms/step - loss: 0.3959 - accuracy: 0.8466 - val_loss: 0.4287 - val_accuracy: 0.8403\n",
            "Epoch 132/200\n",
            "686/686 [==============================] - 5s 8ms/step - loss: 0.3962 - accuracy: 0.8459 - val_loss: 0.4306 - val_accuracy: 0.8393\n",
            "Epoch 133/200\n",
            "686/686 [==============================] - 5s 8ms/step - loss: 0.3930 - accuracy: 0.8483 - val_loss: 0.4326 - val_accuracy: 0.8391\n",
            "Epoch 134/200\n",
            "686/686 [==============================] - 5s 7ms/step - loss: 0.3931 - accuracy: 0.8476 - val_loss: 0.4316 - val_accuracy: 0.8406\n"
          ]
        }
      ],
      "source": [
        "X_train_pad = pad_sequences(sequences_train, maxlen=250, padding='post', truncating='post')\n",
        "X_val_pad = pad_sequences(sequences_val, maxlen=250, padding='post', truncating='post')\n",
        "X_test_pad = pad_sequences(sequences_test, maxlen=250, padding='post', truncating='post')\n",
        "\n",
        "num_words = min(50000, len(tokenizer.word_index) + 1)\n",
        "embedding_dim = fasttext_model.vector_size\n",
        "embedding_matrix = np.zeros((num_words, embedding_dim))\n",
        "for word, i in tokenizer.word_index.items():\n",
        "    if i >= num_words:\n",
        "        continue\n",
        "    if word in fasttext_model.wv:\n",
        "        embedding_matrix[i] = fasttext_model.wv[word]\n",
        "\n",
        "sequence_input = Input(shape=(250,))\n",
        "embedding_layer = Embedding(num_words, embedding_dim, weights=[embedding_matrix], input_length=250, trainable=False)\n",
        "embedded_sequences = embedding_layer(sequence_input)\n",
        "drop_out_1 = Dropout(0.3, name='drop_out_1')(embedded_sequences)\n",
        "conv_1 = Conv1D(64, 2, activation='relu', name='conv_1')(drop_out_1)\n",
        "bn_1 = BatchNormalization()(conv_1)\n",
        "gmp_1 = GlobalMaxPooling1D(name='gmp_1')(bn_1)\n",
        "conv_2 = Conv1D(64, 3, activation='relu', name='conv_2')(drop_out_1)\n",
        "bn_2 = BatchNormalization()(conv_2)\n",
        "gmp_2 = GlobalMaxPooling1D(name='gmp_2')(bn_2)\n",
        "conv_3 = Conv1D(64, 5, activation='relu', name='conv_3')(drop_out_1)\n",
        "bn_3 = BatchNormalization()(conv_3)\n",
        "gmp_3 = GlobalMaxPooling1D(name='gmp_3')(bn_3)\n",
        "concat = Concatenate()([gmp_1, gmp_2, gmp_3])\n",
        "drop_out_2 = Dropout(0.3, name='drop_out_2')(concat)\n",
        "dense = Dense(128, activation='relu', name='dense')(drop_out_2)\n",
        "preds = Dense(3, activation='softmax', name='preds')(dense)\n",
        "model = Model(sequence_input, preds)\n",
        "\n",
        "optimizer = Adam(learning_rate=0.001)\n",
        "model.compile(optimizer=optimizer, loss='sparse_categorical_crossentropy', metrics=['accuracy'])\n",
        "\n",
        "early_stopping = EarlyStopping(patience=10)\n",
        "\n",
        "history = model.fit(X_train_pad, y_train, validation_data=(X_val_pad, y_val), epochs=200, batch_size=200, callbacks=[early_stopping])"
      ]
    },
    {
      "cell_type": "code",
      "execution_count": 13,
      "id": "lUgEdLQBiGuo",
      "metadata": {
        "colab": {
          "base_uri": "https://localhost:8080/",
          "height": 755
        },
        "id": "lUgEdLQBiGuo",
        "outputId": "441aca43-8d8a-4404-8c78-5ebf8227c26e"
      },
      "outputs": [
        {
          "name": "stdout",
          "output_type": "stream",
          "text": [
            "1681/1681 [==============================] - 3s 2ms/step\n"
          ]
        },
        {
          "data": {
            "image/png": "[encoded data removed]",
            "text/plain": [
              "<Figure size 800x600 with 2 Axes>"
            ]
          },
          "metadata": {},
          "output_type": "display_data"
        },
        {
          "name": "stdout",
          "output_type": "stream",
          "text": [
            "              precision    recall  f1-score   support\n",
            "\n",
            "           0       0.75      0.84      0.79     13497\n",
            "           1       0.54      0.12      0.20      4829\n",
            "           2       0.88      0.94      0.91     35440\n",
            "\n",
            "    accuracy                           0.84     53766\n",
            "   macro avg       0.72      0.63      0.63     53766\n",
            "weighted avg       0.82      0.84      0.82     53766\n",
            "\n"
          ]
        }
      ],
      "source": [
        "y_pred_prob = model.predict(X_test_pad)\n",
        "y_pred_labels = y_pred_prob.argmax(axis=1)\n",
        "cm = confusion_matrix(y_test, y_pred_labels)\n",
        "labels = ['Negative', 'Neutral', 'Positive']\n",
        "\n",
        "fig, ax = plt.subplots(figsize=(8, 6))\n",
        "sns.heatmap(cm, annot=True, cmap='Blues', fmt='g', xticklabels=labels, yticklabels=labels, ax=ax)\n",
        "\n",
        "ax.set_title('Confusion Matrix')\n",
        "ax.set_xlabel('Predicted Label')\n",
        "ax.set_ylabel('True Label')\n",
        "\n",
        "plt.show()\n",
        "\n",
        "print(classification_report(y_test, y_pred_labels))"
      ]
    },
    {
      "cell_type": "code",
      "execution_count": 14,
      "id": "THcjbR1bBZJ9",
      "metadata": {
        "colab": {
          "base_uri": "https://localhost:8080/"
        },
        "id": "THcjbR1bBZJ9",
        "outputId": "a9f3a69f-430b-413f-cc1d-bea5399ef61e"
      },
      "outputs": [
        {
          "name": "stdout",
          "output_type": "stream",
          "text": [
            "Micro-average F1 score: 0.8410333668117398\n"
          ]
        }
      ],
      "source": [
        "micro_avg_f1 = f1_score(y_test, y_pred_labels, average='micro')\n",
        "print(\"Micro-average F1 score:\", micro_avg_f1)"
      ]
    }
  ],
  "metadata": {
    "accelerator": "GPU",
    "colab": {
      "gpuType": "A100",
      "machine_shape": "hm",
      "provenance": []
    },
    "kernelspec": {
      "display_name": "Python 3",
      "name": "python3"
    },
    "language_info": {
      "codemirror_mode": {
        "name": "ipython",
        "version": 3
      },
      "file_extension": ".py",
      "mimetype": "text/x-python",
      "name": "python",
      "nbconvert_exporter": "python",
      "pygments_lexer": "ipython3",
      "version": "3.8.16"
    }
  },
  "nbformat": 4,
  "nbformat_minor": 5
}
