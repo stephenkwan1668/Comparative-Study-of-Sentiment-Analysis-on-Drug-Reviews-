{
  "cells": [
    {
      "cell_type": "code",
      "source": [
        "from google.colab import drive\n",
        "drive.mount('/content/gdrive')"
      ],
      "metadata": {
        "colab": {
          "base_uri": "https://localhost:8080/"
        },
        "id": "ODneCyOklUK9",
        "outputId": "ff7bedee-b1a9-441e-8576-e15e36ddb456"
      },
      "execution_count": null,
      "outputs": [
        {
          "output_type": "stream",
          "name": "stdout",
          "text": [
            "Mounted at /content/gdrive\n"
          ]
        }
      ]
    },
    {
      "cell_type": "code",
      "source": [
        "import sys\n",
        "sys.path.append('/content/gdrive/MyDrive/Thesis/Comparison study/Utils')\n",
        "import data_utils as data\n",
        "import metric_utils as mtric\n",
        "import utils"
      ],
      "metadata": {
        "colab": {
          "base_uri": "https://localhost:8080/"
        },
        "id": "6PnRbW_kmdu6",
        "outputId": "06fdb86d-3d2c-4cb1-8c67-295a21c2309f"
      },
      "execution_count": null,
      "outputs": [
        {
          "output_type": "stream",
          "name": "stderr",
          "text": [
            "[nltk_data] Downloading package stopwords to /root/nltk_data...\n",
            "[nltk_data]   Unzipping corpora/stopwords.zip.\n"
          ]
        }
      ]
    },
    {
      "cell_type": "code",
      "metadata": {
        "id": "FP5_LfF8oUaD",
        "cell_id": "1336846069bc47b696e1342d6fd69bf7",
        "source_hash": null,
        "execution_start": 1689097618029,
        "execution_millis": 5622,
        "deepnote_to_be_reexecuted": false,
        "deepnote_cell_type": "code",
        "colab": {
          "base_uri": "https://localhost:8080/"
        },
        "outputId": "fec72528-e0a8-41c6-864d-fdd211bbb969"
      },
      "source": [
        "import pandas as pd\n",
        "import numpy as np\n",
        "import tensorflow as tf\n",
        "import keras\n",
        "import pickle\n",
        "import seaborn as sn\n",
        "import matplotlib.pyplot as plt\n",
        "\n",
        "\n",
        "from sklearn.utils import class_weight\n",
        "from sklearn.metrics import classification_report, f1_score, accuracy_score, confusion_matrix\n",
        "from sklearn.metrics import precision_recall_fscore_support\n",
        "from gensim.models import Word2Vec\n",
        "from gensim.models.keyedvectors import KeyedVectors\n",
        "\n",
        "from tensorflow.keras.preprocessing.text import Tokenizer\n",
        "from tensorflow.keras.preprocessing.sequence import pad_sequences\n",
        "from tensorflow.keras.callbacks import ModelCheckpoint\n",
        "from tensorflow.keras.layers import Dense, Input, GlobalMaxPooling1D, GlobalAveragePooling1D, Flatten, Dropout\n",
        "from tensorflow.keras.layers import Conv1D, MaxPooling1D, Embedding, Reshape\n",
        "from tensorflow.keras.models import Model, load_model\n",
        "from tensorflow.keras.utils import to_categorical, plot_model\n",
        "from tensorflow.keras.layers import concatenate\n",
        "from tensorflow.keras import backend as K\n",
        "from keras.layers import Concatenate\n",
        "\n",
        "import nltk\n",
        "nltk.download('stopwords')\n",
        "\n",
        "from nltk.stem import SnowballStemmer\n",
        "from nltk.corpus import stopwords\n",
        "import unicodedata\n",
        "import re\n",
        "import gc"
      ],
      "execution_count": null,
      "outputs": [
        {
          "output_type": "stream",
          "name": "stderr",
          "text": [
            "[nltk_data] Downloading package stopwords to /root/nltk_data...\n",
            "[nltk_data]   Package stopwords is already up-to-date!\n"
          ]
        }
      ]
    },
    {
      "cell_type": "code",
      "metadata": {
        "id": "lPXHDzgHoUaI",
        "cell_id": "88c3b83b75414aa78e6075f92f3322fa",
        "source_hash": null,
        "execution_start": 1680707511810,
        "execution_millis": 62,
        "deepnote_to_be_reexecuted": false,
        "deepnote_cell_type": "code"
      },
      "source": [
        "# gpu = tf.config.experimental.list_physical_devices('GPU')[0]\n",
        "# tf.config.experimental.set_memory_growth(gpu, True)"
      ],
      "execution_count": null,
      "outputs": []
    },
    {
      "cell_type": "code",
      "metadata": {
        "id": "4ayFki67oUaL",
        "cell_id": "a1b2201077b540f29e7c15020d1ae716",
        "scrolled": false,
        "source_hash": null,
        "execution_start": 1680707511855,
        "execution_millis": 674,
        "deepnote_to_be_reexecuted": false,
        "deepnote_cell_type": "code"
      },
      "source": [
        "#%time data_x, data_y = load_data('dataset/Raw/Train.tsv', [1, 3, 4], True, 1)\n",
        "MAX_NB_WORDS = 300000\n",
        "EMBEDDING_DIM = 200\n",
        "MAX_SEQUENCE_LENGTH = 250\n",
        "\n",
        "path_train = '/content/gdrive/MyDrive/Thesis/Comparison study/dataset/Processed/Train_coma_blind_num.pickle'\n",
        "path_test = '/content/gdrive/MyDrive/Thesis/Comparison study/dataset/Processed/Test_coma_blind_num.pickle'\n",
        "path_w2v = '/content/gdrive/MyDrive/Thesis/Comparison study/w2v/wikipedia-pubmed-and-PMC-w2v (1).bin' # http://evexdb.org/pmresources/vec-space-models/\n",
        "# path_w2v = 'w2v/Set9_TweetDataWithSpam_GeneralData_Word.bin'\n",
        "\n",
        "tokenizer = Tokenizer(num_words=MAX_NB_WORDS)\n",
        "dataset = data.Dataset()\n",
        "\n",
        "dataset.load_pickle(path_train, path_test, label_name='rating')\n",
        "model = KeyedVectors.load_word2vec_format(path_w2v, binary=True)\n",
        "#MAX_SEQUENCE_LENGTH = dataset.text_len_distribution(col_name='review', plot=False)[0]"
      ],
      "execution_count": null,
      "outputs": []
    },
    {
      "cell_type": "code",
      "source": [
        "# Load data from the training file\n",
        "with open(path_train, 'rb') as train_file:\n",
        "    train_data = pickle.load(train_file)\n",
        "\n",
        "# Load data from the test file\n",
        "with open(path_test, 'rb') as test_file:\n",
        "    test_data = pickle.load(test_file)\n",
        "\n",
        "# Display the data from the training file\n",
        "print(\"Training data:\")\n",
        "print(train_data.head())\n",
        "\n",
        "# Display the data from the test file\n",
        "print(\"Test data:\")\n",
        "print(test_data.head())"
      ],
      "metadata": {
        "colab": {
          "base_uri": "https://localhost:8080/"
        },
        "id": "onbnA9wDOun8",
        "outputId": "9b36f1fe-7dbe-4061-af82-9deba9476a69"
      },
      "execution_count": null,
      "outputs": [
        {
          "output_type": "stream",
          "name": "stdout",
          "text": [
            "Training data:\n",
            "                                              review  rating\n",
            "0  [it, has, no, side, effect, ,, i, take, it, in...     9.0\n",
            "1  [my, son, is, halfway, through, his, fourth, w...     8.0\n",
            "2  [i, used, to, take, another, oral, contracepti...     5.0\n",
            "3  [this, is, my, first, time, using, any, form, ...     8.0\n",
            "4  [suboxone, has, completely, turned, my, life, ...     9.0\n",
            "Test data:\n",
            "                                              review  rating\n",
            "0  [i, ve, tried, a, few, antidepressants, over, ...    10.0\n",
            "1  [my, son, has, crohn, s, disease, and, has, do...     8.0\n",
            "2                   [quick, reduction, of, symptoms]     9.0\n",
            "3  [contrave, combines, drugs, that, were, used, ...     9.0\n",
            "4  [i, have, been, on, this, birth, control, for,...     9.0\n"
          ]
        }
      ]
    },
    {
      "cell_type": "code",
      "source": [
        "# Assuming train_data and test_data are loaded from the pickle files\n",
        "\n",
        "# Print the column/feature names of the training data\n",
        "print(\"Training data features:\")\n",
        "print(train_data.columns.tolist())\n",
        "\n",
        "# Print the column/feature names of the test data\n",
        "print(\"\\nTest data features:\")\n",
        "print(test_data.columns.tolist())"
      ],
      "metadata": {
        "colab": {
          "base_uri": "https://localhost:8080/"
        },
        "id": "oJjREAYAPqgd",
        "outputId": "c06f74a9-9e0c-46fe-c161-7d347b1b270b"
      },
      "execution_count": null,
      "outputs": [
        {
          "output_type": "stream",
          "name": "stdout",
          "text": [
            "Training data features:\n",
            "['review', 'rating']\n",
            "\n",
            "Test data features:\n",
            "['review', 'rating']\n"
          ]
        }
      ]
    },
    {
      "cell_type": "code",
      "source": [
        "# Assuming train_data is loaded from the pickle file\n",
        "\n",
        "# Retrieve an element from the loaded pickle file by index\n",
        "element_index = 0  # Replace with the desired index\n",
        "element = train_data.iloc[element_index]\n",
        "print(\"Element at index\", element_index, \"in train_data:\")\n",
        "print(element)"
      ],
      "metadata": {
        "colab": {
          "base_uri": "https://localhost:8080/"
        },
        "id": "CIqFlneQPyW9",
        "outputId": "c0320a56-e8ed-43f8-fe26-7be926440429"
      },
      "execution_count": null,
      "outputs": [
        {
          "output_type": "stream",
          "name": "stdout",
          "text": [
            "Element at index 0 in train_data:\n",
            "review    [it, has, no, side, effect, ,, i, take, it, in...\n",
            "rating                                                  9.0\n",
            "Name: 0, dtype: object\n"
          ]
        }
      ]
    },
    {
      "cell_type": "code",
      "metadata": {
        "cell_id": "60d86b9e96f14463895f3e6d67997681",
        "source_hash": null,
        "deepnote_to_be_reexecuted": true,
        "deepnote_cell_type": "code",
        "colab": {
          "base_uri": "https://localhost:8080/"
        },
        "id": "ST2jf3l3lQmy",
        "outputId": "e370fa76-6a46-421b-aa7a-40fbe0d5b69c"
      },
      "source": [
        "num_words = len(model.key_to_index)\n",
        "print(num_words)"
      ],
      "execution_count": null,
      "outputs": [
        {
          "output_type": "stream",
          "name": "stdout",
          "text": [
            "5443656\n"
          ]
        }
      ]
    },
    {
      "cell_type": "code",
      "metadata": {
        "cell_id": "a52c0d6531444d31b7a1a8d34605321e",
        "source_hash": null,
        "deepnote_to_be_reexecuted": true,
        "deepnote_cell_type": "code",
        "id": "f3l1JeXClQmz"
      },
      "source": [
        "# dataset.replace(parse_col_name='review', old='#', new='$number')"
      ],
      "execution_count": null,
      "outputs": []
    },
    {
      "cell_type": "code",
      "metadata": {
        "id": "vfFfoAhMoUaN",
        "colab": {
          "height": 236,
          "base_uri": "https://localhost:8080/"
        },
        "cell_id": "2e8c59e32a4844be82be6ce6f1d7aa1a",
        "outputId": "a0dc3daf-c0f4-4785-b749-45bde4ff8ff6",
        "source_hash": null,
        "deepnote_to_be_reexecuted": true,
        "deepnote_cell_type": "code"
      },
      "source": [
        "tokenizer.fit_on_texts([x for x in list(dataset.get_train_x().review)+list(dataset.get_test_x().review)])\n",
        "dataset.make_dev_split(dev_split=0.15)\n",
        "dataset.classes_distribution()"
      ],
      "execution_count": null,
      "outputs": [
        {
          "output_type": "display_data",
          "data": {
            "text/plain": [
              "<Figure size 1500x400 with 3 Axes>"
            ],
            "image/png": "[encoded data removed]"
          },
          "metadata": {}
        }
      ]
    },
    {
      "cell_type": "code",
      "metadata": {
        "id": "1v9veKIAoUaQ",
        "colab": {
          "base_uri": "https://localhost:8080/"
        },
        "cell_id": "91c0f88b32cc4640903338164b12eaf8",
        "outputId": "0e636df0-9a1e-4a3e-ccd2-bf9594cd2f1d",
        "source_hash": null,
        "deepnote_to_be_reexecuted": true,
        "deepnote_cell_type": "code"
      },
      "source": [
        "sequences_train = tokenizer.texts_to_sequences(dataset.get_train_x().review)\n",
        "sequences_dev = tokenizer.texts_to_sequences(dataset.get_dev_x().review)\n",
        "sequences_test = tokenizer.texts_to_sequences(dataset.get_test_x().review)\n",
        "\n",
        "Xtrain = pad_sequences(sequences_train, maxlen=MAX_SEQUENCE_LENGTH, padding='post', truncating='pre')\n",
        "Xdev = pad_sequences(sequences_dev, maxlen=MAX_SEQUENCE_LENGTH, padding='post', truncating='pre')\n",
        "Xtest = pad_sequences(sequences_test, maxlen=MAX_SEQUENCE_LENGTH, padding='post', truncating='pre')\n",
        "ytrain = to_categorical(dataset.get_train_y()-dataset.get_train_y().min())\n",
        "ydev = to_categorical(dataset.get_dev_y()-dataset.get_dev_y().min())\n",
        "ytest = to_categorical(dataset.get_test_y()-dataset.get_test_y().min())\n",
        "\n",
        "del sequences_dev, sequences_train, sequences_test\n",
        "gc.collect()"
      ],
      "execution_count": null,
      "outputs": [
        {
          "output_type": "execute_result",
          "data": {
            "text/plain": [
              "13275"
            ]
          },
          "metadata": {},
          "execution_count": 10
        }
      ]
    },
    {
      "cell_type": "code",
      "metadata": {
        "id": "7DNOq79woUaT",
        "colab": {
          "base_uri": "https://localhost:8080/"
        },
        "cell_id": "d2c09dc5a0404b41ad81cdd5bec626e7",
        "outputId": "62796d41-0f9f-4208-8900-2112903fb89f",
        "source_hash": null,
        "deepnote_to_be_reexecuted": true,
        "deepnote_cell_type": "code"
      },
      "source": [
        "word_index = tokenizer.word_index\n",
        "num_words = min(MAX_NB_WORDS, len(word_index))\n",
        "embedding_matrix = np.zeros((num_words, EMBEDDING_DIM), dtype=np.float32)\n",
        "count = 0\n",
        "for word, i in word_index.items():\n",
        "    if i >= num_words:\n",
        "        continue\n",
        "    if word in model:\n",
        "        # words not found in embedding index will be all-zeros.\n",
        "        embedding_matrix[i] = model[word]\n",
        "        count = count+1\n",
        "print (count,\" \",num_words)\n",
        "#38600   49339"
      ],
      "execution_count": null,
      "outputs": [
        {
          "output_type": "stream",
          "name": "stdout",
          "text": [
            "34502   49339\n"
          ]
        }
      ]
    },
    {
      "cell_type": "code",
      "metadata": {
        "id": "y4m3yBNNoUaV",
        "cell_id": "9dfc887910fb45c88b3649f388ce8fa1",
        "source_hash": null,
        "deepnote_to_be_reexecuted": true,
        "deepnote_cell_type": "code"
      },
      "source": [
        "embedding_layer = Embedding(num_words,\n",
        "                            EMBEDDING_DIM,\n",
        "                            weights=[embedding_matrix],\n",
        "                            input_length=MAX_SEQUENCE_LENGTH,\n",
        "                            trainable=False)\n",
        "\n",
        "# class_W = class_weight.compute_class_weight('balanced', np.unique(np.asarray(df_train.label)), np.asarray(df_train.label))\n",
        "# class_weight_dict = dict(enumerate(class_W))\n",
        "\n",
        "class Metrics(keras.callbacks.Callback):\n",
        "    def on_train_begin(self, logs={}):\n",
        "        self.f1s = 0\n",
        "    def on_epoch_end(self, batch, logs={}):\n",
        "        predict = np.asarray(self.model.predict(self.validation_data[0])).argmax(axis=1)\n",
        "        targ = self.validation_data[1].argmax(axis=1)\n",
        "        #f1 = f1_score(targ, predict, average='micro')\n",
        "        mtrcs = precision_recall_fscore_support(targ, predict, average='macro')\n",
        "        print (\"\\nPrecision: \"+str(mtrcs[0])+\"\\tRecall: \"+str(mtrcs[1])+\"\\tF1: \"+str(mtrcs[2]))\n",
        "        if (self.f1s < mtrcs[2]):\n",
        "            self.f1s = mtrcs[2]\n",
        "            #self.model.save('./model/CNN_static_twitterGeneral_Best_EMRS_model_f1_.hdf5')\n",
        "            #print(\"Modelo guardado\\n\")\n",
        "        return\n",
        "\n",
        "metrics = Metrics()"
      ],
      "execution_count": null,
      "outputs": []
    },
    {
      "cell_type": "code",
      "metadata": {
        "id": "_2wcnmuvoUaY",
        "cell_id": "dd0c7f2d79d14bae8ef25e5a98ecb539",
        "scrolled": true,
        "source_hash": null,
        "deepnote_to_be_reexecuted": true,
        "deepnote_cell_type": "code"
      },
      "source": [
        "# class_W = class_weight.compute_class_weight('balanced', np.unique(np.asarray(dataset.get_train_y())), np.asarray(dataset.get_train_y()))\n",
        "# class_weight_dict = dict(enumerate(class_W))"
      ],
      "execution_count": null,
      "outputs": []
    },
    {
      "cell_type": "code",
      "metadata": {
        "id": "tubnicWsoUaa",
        "cell_id": "57017b5fc2e3479a825e170f405263a3",
        "scrolled": true,
        "source_hash": null,
        "deepnote_to_be_reexecuted": true,
        "deepnote_cell_type": "code"
      },
      "source": [
        "sequence_input = Input(shape=(MAX_SEQUENCE_LENGTH,))\n",
        "\n",
        "embedded_sequences = embedding_layer(sequence_input)\n",
        "drop_out_1 = Dropout(0.3, name='drop_out_1')(embedded_sequences)\n",
        "conv_1 = Conv1D(64, 2, activation='relu', name='conv_1')(drop_out_1)\n",
        "gmp_1 = GlobalMaxPooling1D(name='gmp_1')(conv_1)\n",
        "conv_2 = Conv1D(64, 3, activation='relu', name='conv_2')(drop_out_1)\n",
        "gmp_2 = GlobalMaxPooling1D(name='gmp_2')(conv_2)\n",
        "conv_3 = Conv1D(64, 5, activation='relu', name='conv_3')(drop_out_1)\n",
        "gmp_3 = GlobalMaxPooling1D(name='gmp_3')(conv_3)\n",
        "\n",
        "concat = Concatenate()([gmp_1,gmp_2,gmp_3])\n",
        "drop_out_2 = Dropout(0.3, name='drop_out_2')(concat)\n",
        "mp_dense = Dense(128, activation='relu', name='mp_dense')(drop_out_2)\n",
        "preds = Dense(10, activation='softmax', name='preds')(mp_dense)\n",
        "Conv_model = Model(sequence_input, preds)\n",
        "\n",
        "Conv_model.compile(loss='categorical_crossentropy',\n",
        "              optimizer='Adam',\n",
        "              metrics=['accuracy'])\n",
        "\n",
        "callbacks_list = [metrics]"
      ],
      "execution_count": null,
      "outputs": []
    },
    {
      "cell_type": "code",
      "metadata": {
        "id": "xaJIuOrXoUad",
        "colab": {
          "base_uri": "https://localhost:8080/"
        },
        "cell_id": "b710495c74e94a1b8c7e97a8ed6267f5",
        "outputId": "8b8843ca-f005-4785-cd58-50073c0bface",
        "scrolled": true,
        "source_hash": null,
        "deepnote_to_be_reexecuted": true,
        "deepnote_cell_type": "code"
      },
      "source": [
        "Conv_model.fit(Xtrain, ytrain,\n",
        "      #class_weight=class_weight_dict,\n",
        "      shuffle=True,\n",
        "      batch_size=200,\n",
        "      epochs=200,\n",
        "      validation_data=(Xdev, ydev))"
      ],
      "execution_count": null,
      "outputs": [
        {
          "output_type": "stream",
          "name": "stdout",
          "text": [
            "Epoch 1/200\n",
            "686/686 [==============================] - 15s 6ms/step - loss: 1.8721 - accuracy: 0.3539 - val_loss: 1.7107 - val_accuracy: 0.4030\n",
            "Epoch 2/200\n",
            "686/686 [==============================] - 4s 5ms/step - loss: 1.6900 - accuracy: 0.4037 - val_loss: 1.6123 - val_accuracy: 0.4272\n",
            "Epoch 3/200\n",
            "686/686 [==============================] - 4s 5ms/step - loss: 1.6374 - accuracy: 0.4182 - val_loss: 1.5818 - val_accuracy: 0.4331\n",
            "Epoch 4/200\n",
            "686/686 [==============================] - 4s 5ms/step - loss: 1.6100 - accuracy: 0.4251 - val_loss: 1.5607 - val_accuracy: 0.4372\n",
            "Epoch 5/200\n",
            "686/686 [==============================] - 4s 5ms/step - loss: 1.5912 - accuracy: 0.4293 - val_loss: 1.5416 - val_accuracy: 0.4413\n",
            "Epoch 6/200\n",
            "686/686 [==============================] - 4s 5ms/step - loss: 1.5761 - accuracy: 0.4339 - val_loss: 1.5416 - val_accuracy: 0.4414\n",
            "Epoch 7/200\n",
            "686/686 [==============================] - 4s 5ms/step - loss: 1.5656 - accuracy: 0.4363 - val_loss: 1.5264 - val_accuracy: 0.4474\n",
            "Epoch 8/200\n",
            "686/686 [==============================] - 4s 5ms/step - loss: 1.5540 - accuracy: 0.4384 - val_loss: 1.5162 - val_accuracy: 0.4484\n",
            "Epoch 9/200\n",
            "686/686 [==============================] - 4s 5ms/step - loss: 1.5473 - accuracy: 0.4406 - val_loss: 1.5150 - val_accuracy: 0.4509\n",
            "Epoch 10/200\n",
            "686/686 [==============================] - 4s 5ms/step - loss: 1.5409 - accuracy: 0.4415 - val_loss: 1.5139 - val_accuracy: 0.4479\n",
            "Epoch 11/200\n",
            "686/686 [==============================] - 4s 5ms/step - loss: 1.5331 - accuracy: 0.4450 - val_loss: 1.5069 - val_accuracy: 0.4519\n",
            "Epoch 12/200\n",
            "686/686 [==============================] - 4s 5ms/step - loss: 1.5291 - accuracy: 0.4456 - val_loss: 1.5048 - val_accuracy: 0.4516\n",
            "Epoch 13/200\n",
            "686/686 [==============================] - 4s 5ms/step - loss: 1.5224 - accuracy: 0.4484 - val_loss: 1.4998 - val_accuracy: 0.4521\n",
            "Epoch 14/200\n",
            "686/686 [==============================] - 4s 5ms/step - loss: 1.5184 - accuracy: 0.4488 - val_loss: 1.4980 - val_accuracy: 0.4573\n",
            "Epoch 15/200\n",
            "686/686 [==============================] - 4s 5ms/step - loss: 1.5140 - accuracy: 0.4516 - val_loss: 1.4989 - val_accuracy: 0.4558\n",
            "Epoch 16/200\n",
            "686/686 [==============================] - 4s 5ms/step - loss: 1.5119 - accuracy: 0.4506 - val_loss: 1.4911 - val_accuracy: 0.4554\n",
            "Epoch 17/200\n",
            "686/686 [==============================] - 4s 5ms/step - loss: 1.5043 - accuracy: 0.4523 - val_loss: 1.4929 - val_accuracy: 0.4562\n",
            "Epoch 18/200\n",
            "686/686 [==============================] - 4s 5ms/step - loss: 1.5019 - accuracy: 0.4532 - val_loss: 1.4886 - val_accuracy: 0.4563\n",
            "Epoch 19/200\n",
            "686/686 [==============================] - 4s 5ms/step - loss: 1.4980 - accuracy: 0.4544 - val_loss: 1.4845 - val_accuracy: 0.4579\n",
            "Epoch 20/200\n",
            "686/686 [==============================] - 4s 5ms/step - loss: 1.4996 - accuracy: 0.4538 - val_loss: 1.4836 - val_accuracy: 0.4588\n",
            "Epoch 21/200\n",
            "686/686 [==============================] - 4s 5ms/step - loss: 1.4953 - accuracy: 0.4550 - val_loss: 1.4849 - val_accuracy: 0.4589\n",
            "Epoch 22/200\n",
            "686/686 [==============================] - 4s 6ms/step - loss: 1.4920 - accuracy: 0.4566 - val_loss: 1.4779 - val_accuracy: 0.4570\n",
            "Epoch 23/200\n",
            "686/686 [==============================] - 4s 5ms/step - loss: 1.4885 - accuracy: 0.4565 - val_loss: 1.4778 - val_accuracy: 0.4609\n",
            "Epoch 24/200\n",
            "686/686 [==============================] - 4s 5ms/step - loss: 1.4863 - accuracy: 0.4572 - val_loss: 1.4771 - val_accuracy: 0.4589\n",
            "Epoch 25/200\n",
            "686/686 [==============================] - 4s 5ms/step - loss: 1.4864 - accuracy: 0.4583 - val_loss: 1.4754 - val_accuracy: 0.4604\n",
            "Epoch 26/200\n",
            "686/686 [==============================] - 4s 5ms/step - loss: 1.4836 - accuracy: 0.4585 - val_loss: 1.4798 - val_accuracy: 0.4598\n",
            "Epoch 27/200\n",
            "686/686 [==============================] - 4s 5ms/step - loss: 1.4803 - accuracy: 0.4597 - val_loss: 1.4762 - val_accuracy: 0.4605\n",
            "Epoch 28/200\n",
            "686/686 [==============================] - 4s 5ms/step - loss: 1.4771 - accuracy: 0.4612 - val_loss: 1.4700 - val_accuracy: 0.4605\n",
            "Epoch 29/200\n",
            "686/686 [==============================] - 4s 5ms/step - loss: 1.4768 - accuracy: 0.4610 - val_loss: 1.4704 - val_accuracy: 0.4599\n",
            "Epoch 30/200\n",
            "686/686 [==============================] - 4s 5ms/step - loss: 1.4723 - accuracy: 0.4627 - val_loss: 1.4706 - val_accuracy: 0.4614\n",
            "Epoch 31/200\n",
            "686/686 [==============================] - 4s 5ms/step - loss: 1.4720 - accuracy: 0.4622 - val_loss: 1.4684 - val_accuracy: 0.4617\n",
            "Epoch 32/200\n",
            "686/686 [==============================] - 4s 5ms/step - loss: 1.4730 - accuracy: 0.4617 - val_loss: 1.4662 - val_accuracy: 0.4642\n",
            "Epoch 33/200\n",
            "686/686 [==============================] - 4s 5ms/step - loss: 1.4711 - accuracy: 0.4618 - val_loss: 1.4683 - val_accuracy: 0.4634\n",
            "Epoch 34/200\n",
            "686/686 [==============================] - 4s 5ms/step - loss: 1.4696 - accuracy: 0.4641 - val_loss: 1.4654 - val_accuracy: 0.4632\n",
            "Epoch 35/200\n",
            "686/686 [==============================] - 4s 5ms/step - loss: 1.4670 - accuracy: 0.4631 - val_loss: 1.4648 - val_accuracy: 0.4625\n",
            "Epoch 36/200\n",
            "686/686 [==============================] - 4s 5ms/step - loss: 1.4658 - accuracy: 0.4629 - val_loss: 1.4646 - val_accuracy: 0.4603\n",
            "Epoch 37/200\n",
            "686/686 [==============================] - 4s 5ms/step - loss: 1.4623 - accuracy: 0.4644 - val_loss: 1.4637 - val_accuracy: 0.4609\n",
            "Epoch 38/200\n",
            "686/686 [==============================] - 4s 5ms/step - loss: 1.4651 - accuracy: 0.4638 - val_loss: 1.4627 - val_accuracy: 0.4621\n",
            "Epoch 39/200\n",
            "686/686 [==============================] - 4s 5ms/step - loss: 1.4642 - accuracy: 0.4638 - val_loss: 1.4666 - val_accuracy: 0.4636\n",
            "Epoch 40/200\n",
            "686/686 [==============================] - 4s 5ms/step - loss: 1.4612 - accuracy: 0.4658 - val_loss: 1.4649 - val_accuracy: 0.4636\n",
            "Epoch 41/200\n",
            "686/686 [==============================] - 4s 5ms/step - loss: 1.4606 - accuracy: 0.4650 - val_loss: 1.4624 - val_accuracy: 0.4654\n",
            "Epoch 42/200\n",
            "686/686 [==============================] - 4s 5ms/step - loss: 1.4611 - accuracy: 0.4660 - val_loss: 1.4645 - val_accuracy: 0.4643\n",
            "Epoch 43/200\n",
            "686/686 [==============================] - 4s 5ms/step - loss: 1.4553 - accuracy: 0.4678 - val_loss: 1.4602 - val_accuracy: 0.4646\n",
            "Epoch 44/200\n",
            "686/686 [==============================] - 4s 5ms/step - loss: 1.4579 - accuracy: 0.4675 - val_loss: 1.4602 - val_accuracy: 0.4673\n",
            "Epoch 45/200\n",
            "686/686 [==============================] - 4s 6ms/step - loss: 1.4548 - accuracy: 0.4693 - val_loss: 1.4621 - val_accuracy: 0.4669\n",
            "Epoch 46/200\n",
            "686/686 [==============================] - 4s 5ms/step - loss: 1.4536 - accuracy: 0.4682 - val_loss: 1.4629 - val_accuracy: 0.4626\n",
            "Epoch 47/200\n",
            "686/686 [==============================] - 4s 5ms/step - loss: 1.4543 - accuracy: 0.4670 - val_loss: 1.4563 - val_accuracy: 0.4675\n",
            "Epoch 48/200\n",
            "686/686 [==============================] - 4s 5ms/step - loss: 1.4536 - accuracy: 0.4669 - val_loss: 1.4569 - val_accuracy: 0.4686\n",
            "Epoch 49/200\n",
            "686/686 [==============================] - 4s 5ms/step - loss: 1.4534 - accuracy: 0.4675 - val_loss: 1.4572 - val_accuracy: 0.4650\n",
            "Epoch 50/200\n",
            "686/686 [==============================] - 4s 5ms/step - loss: 1.4521 - accuracy: 0.4686 - val_loss: 1.4565 - val_accuracy: 0.4670\n",
            "Epoch 51/200\n",
            "686/686 [==============================] - 4s 5ms/step - loss: 1.4508 - accuracy: 0.4694 - val_loss: 1.4598 - val_accuracy: 0.4684\n",
            "Epoch 52/200\n",
            "686/686 [==============================] - 4s 5ms/step - loss: 1.4510 - accuracy: 0.4682 - val_loss: 1.4575 - val_accuracy: 0.4666\n",
            "Epoch 53/200\n",
            "686/686 [==============================] - 4s 5ms/step - loss: 1.4482 - accuracy: 0.4699 - val_loss: 1.4592 - val_accuracy: 0.4679\n",
            "Epoch 54/200\n",
            "686/686 [==============================] - 4s 5ms/step - loss: 1.4477 - accuracy: 0.4686 - val_loss: 1.4545 - val_accuracy: 0.4682\n",
            "Epoch 55/200\n",
            "686/686 [==============================] - 4s 5ms/step - loss: 1.4471 - accuracy: 0.4697 - val_loss: 1.4587 - val_accuracy: 0.4667\n",
            "Epoch 56/200\n",
            "686/686 [==============================] - 4s 5ms/step - loss: 1.4451 - accuracy: 0.4713 - val_loss: 1.4562 - val_accuracy: 0.4682\n",
            "Epoch 57/200\n",
            "686/686 [==============================] - 4s 5ms/step - loss: 1.4480 - accuracy: 0.4686 - val_loss: 1.4534 - val_accuracy: 0.4667\n",
            "Epoch 58/200\n",
            "686/686 [==============================] - 4s 5ms/step - loss: 1.4444 - accuracy: 0.4700 - val_loss: 1.4533 - val_accuracy: 0.4674\n",
            "Epoch 59/200\n",
            "686/686 [==============================] - 4s 5ms/step - loss: 1.4465 - accuracy: 0.4688 - val_loss: 1.4549 - val_accuracy: 0.4675\n",
            "Epoch 60/200\n",
            "686/686 [==============================] - 4s 5ms/step - loss: 1.4418 - accuracy: 0.4713 - val_loss: 1.4524 - val_accuracy: 0.4683\n",
            "Epoch 61/200\n",
            "686/686 [==============================] - 4s 5ms/step - loss: 1.4430 - accuracy: 0.4720 - val_loss: 1.4544 - val_accuracy: 0.4694\n",
            "Epoch 62/200\n",
            "686/686 [==============================] - 4s 5ms/step - loss: 1.4426 - accuracy: 0.4713 - val_loss: 1.4495 - val_accuracy: 0.4665\n",
            "Epoch 63/200\n",
            "686/686 [==============================] - 4s 5ms/step - loss: 1.4428 - accuracy: 0.4721 - val_loss: 1.4544 - val_accuracy: 0.4681\n",
            "Epoch 64/200\n",
            "686/686 [==============================] - 4s 5ms/step - loss: 1.4408 - accuracy: 0.4703 - val_loss: 1.4538 - val_accuracy: 0.4672\n",
            "Epoch 65/200\n",
            "686/686 [==============================] - 4s 6ms/step - loss: 1.4393 - accuracy: 0.4721 - val_loss: 1.4549 - val_accuracy: 0.4694\n",
            "Epoch 66/200\n",
            "686/686 [==============================] - 4s 6ms/step - loss: 1.4397 - accuracy: 0.4709 - val_loss: 1.4520 - val_accuracy: 0.4693\n",
            "Epoch 67/200\n",
            "686/686 [==============================] - 4s 6ms/step - loss: 1.4404 - accuracy: 0.4721 - val_loss: 1.4508 - val_accuracy: 0.4689\n",
            "Epoch 68/200\n",
            "686/686 [==============================] - 4s 6ms/step - loss: 1.4383 - accuracy: 0.4728 - val_loss: 1.4515 - val_accuracy: 0.4676\n",
            "Epoch 69/200\n",
            "686/686 [==============================] - 4s 5ms/step - loss: 1.4394 - accuracy: 0.4723 - val_loss: 1.4508 - val_accuracy: 0.4706\n",
            "Epoch 70/200\n",
            "686/686 [==============================] - 4s 5ms/step - loss: 1.4383 - accuracy: 0.4718 - val_loss: 1.4520 - val_accuracy: 0.4666\n",
            "Epoch 71/200\n",
            "686/686 [==============================] - 4s 5ms/step - loss: 1.4375 - accuracy: 0.4746 - val_loss: 1.4543 - val_accuracy: 0.4676\n",
            "Epoch 72/200\n",
            "686/686 [==============================] - 4s 5ms/step - loss: 1.4377 - accuracy: 0.4730 - val_loss: 1.4511 - val_accuracy: 0.4684\n",
            "Epoch 73/200\n",
            "686/686 [==============================] - 4s 5ms/step - loss: 1.4365 - accuracy: 0.4723 - val_loss: 1.4514 - val_accuracy: 0.4683\n",
            "Epoch 74/200\n",
            "686/686 [==============================] - 4s 5ms/step - loss: 1.4368 - accuracy: 0.4731 - val_loss: 1.4472 - val_accuracy: 0.4691\n",
            "Epoch 75/200\n",
            "686/686 [==============================] - 4s 5ms/step - loss: 1.4352 - accuracy: 0.4724 - val_loss: 1.4473 - val_accuracy: 0.4718\n",
            "Epoch 76/200\n",
            "686/686 [==============================] - 4s 5ms/step - loss: 1.4353 - accuracy: 0.4729 - val_loss: 1.4488 - val_accuracy: 0.4703\n",
            "Epoch 77/200\n",
            "686/686 [==============================] - 4s 5ms/step - loss: 1.4361 - accuracy: 0.4723 - val_loss: 1.4537 - val_accuracy: 0.4657\n",
            "Epoch 78/200\n",
            "686/686 [==============================] - 4s 5ms/step - loss: 1.4338 - accuracy: 0.4751 - val_loss: 1.4489 - val_accuracy: 0.4689\n",
            "Epoch 79/200\n",
            "686/686 [==============================] - 4s 5ms/step - loss: 1.4336 - accuracy: 0.4729 - val_loss: 1.4478 - val_accuracy: 0.4680\n",
            "Epoch 80/200\n",
            "686/686 [==============================] - 4s 5ms/step - loss: 1.4330 - accuracy: 0.4736 - val_loss: 1.4470 - val_accuracy: 0.4697\n",
            "Epoch 81/200\n",
            "686/686 [==============================] - 4s 5ms/step - loss: 1.4325 - accuracy: 0.4745 - val_loss: 1.4474 - val_accuracy: 0.4671\n",
            "Epoch 82/200\n",
            "686/686 [==============================] - 4s 5ms/step - loss: 1.4323 - accuracy: 0.4741 - val_loss: 1.4501 - val_accuracy: 0.4691\n",
            "Epoch 83/200\n",
            "686/686 [==============================] - 4s 5ms/step - loss: 1.4303 - accuracy: 0.4757 - val_loss: 1.4469 - val_accuracy: 0.4706\n",
            "Epoch 84/200\n",
            "686/686 [==============================] - 4s 5ms/step - loss: 1.4316 - accuracy: 0.4744 - val_loss: 1.4487 - val_accuracy: 0.4683\n",
            "Epoch 85/200\n",
            "686/686 [==============================] - 4s 5ms/step - loss: 1.4301 - accuracy: 0.4746 - val_loss: 1.4456 - val_accuracy: 0.4691\n",
            "Epoch 86/200\n",
            "686/686 [==============================] - 4s 5ms/step - loss: 1.4334 - accuracy: 0.4755 - val_loss: 1.4489 - val_accuracy: 0.4672\n",
            "Epoch 87/200\n",
            "686/686 [==============================] - 4s 5ms/step - loss: 1.4297 - accuracy: 0.4757 - val_loss: 1.4486 - val_accuracy: 0.4687\n",
            "Epoch 88/200\n",
            "686/686 [==============================] - 4s 6ms/step - loss: 1.4286 - accuracy: 0.4764 - val_loss: 1.4495 - val_accuracy: 0.4666\n",
            "Epoch 89/200\n",
            "686/686 [==============================] - 4s 5ms/step - loss: 1.4296 - accuracy: 0.4758 - val_loss: 1.4486 - val_accuracy: 0.4690\n",
            "Epoch 90/200\n",
            "686/686 [==============================] - 4s 5ms/step - loss: 1.4257 - accuracy: 0.4780 - val_loss: 1.4471 - val_accuracy: 0.4718\n",
            "Epoch 91/200\n",
            "686/686 [==============================] - 4s 5ms/step - loss: 1.4279 - accuracy: 0.4765 - val_loss: 1.4489 - val_accuracy: 0.4651\n",
            "Epoch 92/200\n",
            "686/686 [==============================] - 4s 5ms/step - loss: 1.4265 - accuracy: 0.4771 - val_loss: 1.4452 - val_accuracy: 0.4683\n",
            "Epoch 93/200\n",
            "686/686 [==============================] - 4s 5ms/step - loss: 1.4262 - accuracy: 0.4784 - val_loss: 1.4457 - val_accuracy: 0.4694\n",
            "Epoch 94/200\n",
            "686/686 [==============================] - 4s 5ms/step - loss: 1.4273 - accuracy: 0.4770 - val_loss: 1.4486 - val_accuracy: 0.4654\n",
            "Epoch 95/200\n",
            "686/686 [==============================] - 4s 5ms/step - loss: 1.4254 - accuracy: 0.4773 - val_loss: 1.4472 - val_accuracy: 0.4644\n",
            "Epoch 96/200\n",
            "686/686 [==============================] - 4s 5ms/step - loss: 1.4255 - accuracy: 0.4774 - val_loss: 1.4457 - val_accuracy: 0.4686\n",
            "Epoch 97/200\n",
            "686/686 [==============================] - 4s 5ms/step - loss: 1.4231 - accuracy: 0.4768 - val_loss: 1.4454 - val_accuracy: 0.4683\n",
            "Epoch 98/200\n",
            "686/686 [==============================] - 4s 5ms/step - loss: 1.4241 - accuracy: 0.4770 - val_loss: 1.4478 - val_accuracy: 0.4693\n",
            "Epoch 99/200\n",
            "686/686 [==============================] - 4s 5ms/step - loss: 1.4263 - accuracy: 0.4776 - val_loss: 1.4468 - val_accuracy: 0.4688\n",
            "Epoch 100/200\n",
            "686/686 [==============================] - 4s 5ms/step - loss: 1.4257 - accuracy: 0.4762 - val_loss: 1.4490 - val_accuracy: 0.4684\n",
            "Epoch 101/200\n",
            "686/686 [==============================] - 4s 5ms/step - loss: 1.4239 - accuracy: 0.4778 - val_loss: 1.4464 - val_accuracy: 0.4685\n",
            "Epoch 102/200\n",
            "686/686 [==============================] - 4s 5ms/step - loss: 1.4250 - accuracy: 0.4773 - val_loss: 1.4488 - val_accuracy: 0.4699\n",
            "Epoch 103/200\n",
            "686/686 [==============================] - 4s 5ms/step - loss: 1.4245 - accuracy: 0.4768 - val_loss: 1.4472 - val_accuracy: 0.4691\n",
            "Epoch 104/200\n",
            "686/686 [==============================] - 4s 5ms/step - loss: 1.4250 - accuracy: 0.4778 - val_loss: 1.4462 - val_accuracy: 0.4697\n",
            "Epoch 105/200\n",
            "686/686 [==============================] - 4s 5ms/step - loss: 1.4228 - accuracy: 0.4787 - val_loss: 1.4410 - val_accuracy: 0.4737\n",
            "Epoch 106/200\n",
            "686/686 [==============================] - 4s 5ms/step - loss: 1.4246 - accuracy: 0.4792 - val_loss: 1.4477 - val_accuracy: 0.4691\n",
            "Epoch 107/200\n",
            "686/686 [==============================] - 4s 5ms/step - loss: 1.4234 - accuracy: 0.4789 - val_loss: 1.4438 - val_accuracy: 0.4721\n",
            "Epoch 108/200\n",
            "686/686 [==============================] - 4s 5ms/step - loss: 1.4204 - accuracy: 0.4794 - val_loss: 1.4451 - val_accuracy: 0.4708\n",
            "Epoch 109/200\n",
            "686/686 [==============================] - 4s 5ms/step - loss: 1.4208 - accuracy: 0.4785 - val_loss: 1.4438 - val_accuracy: 0.4735\n",
            "Epoch 110/200\n",
            "686/686 [==============================] - 4s 5ms/step - loss: 1.4228 - accuracy: 0.4776 - val_loss: 1.4455 - val_accuracy: 0.4719\n",
            "Epoch 111/200\n",
            "686/686 [==============================] - 4s 5ms/step - loss: 1.4208 - accuracy: 0.4773 - val_loss: 1.4469 - val_accuracy: 0.4706\n",
            "Epoch 112/200\n",
            "686/686 [==============================] - 4s 5ms/step - loss: 1.4214 - accuracy: 0.4779 - val_loss: 1.4441 - val_accuracy: 0.4729\n",
            "Epoch 113/200\n",
            "686/686 [==============================] - 4s 5ms/step - loss: 1.4203 - accuracy: 0.4799 - val_loss: 1.4466 - val_accuracy: 0.4714\n",
            "Epoch 114/200\n",
            "686/686 [==============================] - 4s 5ms/step - loss: 1.4211 - accuracy: 0.4775 - val_loss: 1.4436 - val_accuracy: 0.4713\n",
            "Epoch 115/200\n",
            "686/686 [==============================] - 4s 5ms/step - loss: 1.4205 - accuracy: 0.4776 - val_loss: 1.4439 - val_accuracy: 0.4713\n",
            "Epoch 116/200\n",
            "686/686 [==============================] - 4s 5ms/step - loss: 1.4197 - accuracy: 0.4793 - val_loss: 1.4434 - val_accuracy: 0.4682\n",
            "Epoch 117/200\n",
            "686/686 [==============================] - 4s 5ms/step - loss: 1.4192 - accuracy: 0.4793 - val_loss: 1.4440 - val_accuracy: 0.4708\n",
            "Epoch 118/200\n",
            "686/686 [==============================] - 4s 5ms/step - loss: 1.4199 - accuracy: 0.4788 - val_loss: 1.4411 - val_accuracy: 0.4718\n",
            "Epoch 119/200\n",
            "686/686 [==============================] - 4s 5ms/step - loss: 1.4186 - accuracy: 0.4804 - val_loss: 1.4462 - val_accuracy: 0.4686\n",
            "Epoch 120/200\n",
            "686/686 [==============================] - 4s 5ms/step - loss: 1.4188 - accuracy: 0.4796 - val_loss: 1.4445 - val_accuracy: 0.4696\n",
            "Epoch 121/200\n",
            "686/686 [==============================] - 4s 5ms/step - loss: 1.4197 - accuracy: 0.4798 - val_loss: 1.4426 - val_accuracy: 0.4711\n",
            "Epoch 122/200\n",
            "686/686 [==============================] - 4s 5ms/step - loss: 1.4188 - accuracy: 0.4791 - val_loss: 1.4420 - val_accuracy: 0.4713\n",
            "Epoch 123/200\n",
            "686/686 [==============================] - 4s 5ms/step - loss: 1.4192 - accuracy: 0.4787 - val_loss: 1.4415 - val_accuracy: 0.4734\n",
            "Epoch 124/200\n",
            "686/686 [==============================] - 4s 5ms/step - loss: 1.4185 - accuracy: 0.4784 - val_loss: 1.4403 - val_accuracy: 0.4716\n",
            "Epoch 125/200\n",
            "686/686 [==============================] - 4s 5ms/step - loss: 1.4166 - accuracy: 0.4811 - val_loss: 1.4409 - val_accuracy: 0.4728\n",
            "Epoch 126/200\n",
            "686/686 [==============================] - 4s 5ms/step - loss: 1.4172 - accuracy: 0.4791 - val_loss: 1.4393 - val_accuracy: 0.4713\n",
            "Epoch 127/200\n",
            "686/686 [==============================] - 4s 5ms/step - loss: 1.4177 - accuracy: 0.4798 - val_loss: 1.4417 - val_accuracy: 0.4741\n",
            "Epoch 128/200\n",
            "686/686 [==============================] - 4s 5ms/step - loss: 1.4191 - accuracy: 0.4798 - val_loss: 1.4429 - val_accuracy: 0.4717\n",
            "Epoch 129/200\n",
            "686/686 [==============================] - 4s 5ms/step - loss: 1.4172 - accuracy: 0.4801 - val_loss: 1.4399 - val_accuracy: 0.4735\n",
            "Epoch 130/200\n",
            "686/686 [==============================] - 4s 5ms/step - loss: 1.4185 - accuracy: 0.4794 - val_loss: 1.4412 - val_accuracy: 0.4732\n",
            "Epoch 131/200\n",
            "686/686 [==============================] - 4s 5ms/step - loss: 1.4171 - accuracy: 0.4798 - val_loss: 1.4398 - val_accuracy: 0.4739\n",
            "Epoch 132/200\n",
            "686/686 [==============================] - 4s 5ms/step - loss: 1.4181 - accuracy: 0.4784 - val_loss: 1.4397 - val_accuracy: 0.4753\n",
            "Epoch 133/200\n",
            "686/686 [==============================] - 4s 5ms/step - loss: 1.4166 - accuracy: 0.4815 - val_loss: 1.4407 - val_accuracy: 0.4717\n",
            "Epoch 134/200\n",
            "686/686 [==============================] - 4s 5ms/step - loss: 1.4130 - accuracy: 0.4812 - val_loss: 1.4394 - val_accuracy: 0.4728\n",
            "Epoch 135/200\n",
            "686/686 [==============================] - 4s 5ms/step - loss: 1.4165 - accuracy: 0.4798 - val_loss: 1.4409 - val_accuracy: 0.4731\n",
            "Epoch 136/200\n",
            "686/686 [==============================] - 4s 5ms/step - loss: 1.4153 - accuracy: 0.4806 - val_loss: 1.4426 - val_accuracy: 0.4725\n",
            "Epoch 137/200\n",
            "686/686 [==============================] - 4s 5ms/step - loss: 1.4147 - accuracy: 0.4809 - val_loss: 1.4416 - val_accuracy: 0.4710\n",
            "Epoch 138/200\n",
            "686/686 [==============================] - 4s 5ms/step - loss: 1.4140 - accuracy: 0.4820 - val_loss: 1.4427 - val_accuracy: 0.4742\n",
            "Epoch 139/200\n",
            "686/686 [==============================] - 4s 5ms/step - loss: 1.4136 - accuracy: 0.4820 - val_loss: 1.4400 - val_accuracy: 0.4733\n",
            "Epoch 140/200\n",
            "686/686 [==============================] - 4s 5ms/step - loss: 1.4171 - accuracy: 0.4821 - val_loss: 1.4414 - val_accuracy: 0.4725\n",
            "Epoch 141/200\n",
            "686/686 [==============================] - 4s 5ms/step - loss: 1.4157 - accuracy: 0.4801 - val_loss: 1.4452 - val_accuracy: 0.4697\n",
            "Epoch 142/200\n",
            "686/686 [==============================] - 4s 5ms/step - loss: 1.4125 - accuracy: 0.4804 - val_loss: 1.4419 - val_accuracy: 0.4713\n",
            "Epoch 143/200\n",
            "686/686 [==============================] - 4s 5ms/step - loss: 1.4145 - accuracy: 0.4813 - val_loss: 1.4402 - val_accuracy: 0.4732\n",
            "Epoch 144/200\n",
            "686/686 [==============================] - 4s 5ms/step - loss: 1.4135 - accuracy: 0.4813 - val_loss: 1.4408 - val_accuracy: 0.4706\n",
            "Epoch 145/200\n",
            "686/686 [==============================] - 4s 5ms/step - loss: 1.4141 - accuracy: 0.4807 - val_loss: 1.4408 - val_accuracy: 0.4726\n",
            "Epoch 146/200\n",
            "686/686 [==============================] - 4s 5ms/step - loss: 1.4132 - accuracy: 0.4821 - val_loss: 1.4408 - val_accuracy: 0.4741\n",
            "Epoch 147/200\n",
            "686/686 [==============================] - 4s 5ms/step - loss: 1.4128 - accuracy: 0.4823 - val_loss: 1.4372 - val_accuracy: 0.4734\n",
            "Epoch 148/200\n",
            "686/686 [==============================] - 4s 6ms/step - loss: 1.4115 - accuracy: 0.4824 - val_loss: 1.4390 - val_accuracy: 0.4740\n",
            "Epoch 149/200\n",
            "686/686 [==============================] - 4s 6ms/step - loss: 1.4128 - accuracy: 0.4812 - val_loss: 1.4405 - val_accuracy: 0.4730\n",
            "Epoch 150/200\n",
            "686/686 [==============================] - 4s 6ms/step - loss: 1.4122 - accuracy: 0.4811 - val_loss: 1.4393 - val_accuracy: 0.4734\n",
            "Epoch 151/200\n",
            "686/686 [==============================] - 4s 6ms/step - loss: 1.4098 - accuracy: 0.4832 - val_loss: 1.4384 - val_accuracy: 0.4761\n",
            "Epoch 152/200\n",
            "686/686 [==============================] - 4s 5ms/step - loss: 1.4096 - accuracy: 0.4822 - val_loss: 1.4364 - val_accuracy: 0.4740\n",
            "Epoch 153/200\n",
            "686/686 [==============================] - 4s 5ms/step - loss: 1.4133 - accuracy: 0.4821 - val_loss: 1.4367 - val_accuracy: 0.4741\n",
            "Epoch 154/200\n",
            "686/686 [==============================] - 4s 5ms/step - loss: 1.4111 - accuracy: 0.4822 - val_loss: 1.4370 - val_accuracy: 0.4737\n",
            "Epoch 155/200\n",
            "686/686 [==============================] - 4s 5ms/step - loss: 1.4109 - accuracy: 0.4811 - val_loss: 1.4366 - val_accuracy: 0.4757\n",
            "Epoch 156/200\n",
            "686/686 [==============================] - 4s 5ms/step - loss: 1.4082 - accuracy: 0.4832 - val_loss: 1.4395 - val_accuracy: 0.4699\n",
            "Epoch 157/200\n",
            "686/686 [==============================] - 4s 5ms/step - loss: 1.4109 - accuracy: 0.4818 - val_loss: 1.4411 - val_accuracy: 0.4723\n",
            "Epoch 158/200\n",
            "686/686 [==============================] - 4s 5ms/step - loss: 1.4113 - accuracy: 0.4818 - val_loss: 1.4382 - val_accuracy: 0.4751\n",
            "Epoch 159/200\n",
            "686/686 [==============================] - 4s 5ms/step - loss: 1.4096 - accuracy: 0.4834 - val_loss: 1.4364 - val_accuracy: 0.4740\n",
            "Epoch 160/200\n",
            "686/686 [==============================] - 4s 5ms/step - loss: 1.4094 - accuracy: 0.4821 - val_loss: 1.4365 - val_accuracy: 0.4732\n",
            "Epoch 161/200\n",
            "686/686 [==============================] - 4s 5ms/step - loss: 1.4108 - accuracy: 0.4818 - val_loss: 1.4386 - val_accuracy: 0.4741\n",
            "Epoch 162/200\n",
            "686/686 [==============================] - 4s 5ms/step - loss: 1.4087 - accuracy: 0.4837 - val_loss: 1.4387 - val_accuracy: 0.4753\n",
            "Epoch 163/200\n",
            "686/686 [==============================] - 4s 5ms/step - loss: 1.4097 - accuracy: 0.4823 - val_loss: 1.4385 - val_accuracy: 0.4736\n",
            "Epoch 164/200\n",
            "686/686 [==============================] - 4s 5ms/step - loss: 1.4088 - accuracy: 0.4843 - val_loss: 1.4385 - val_accuracy: 0.4734\n",
            "Epoch 165/200\n",
            "686/686 [==============================] - 4s 5ms/step - loss: 1.4112 - accuracy: 0.4810 - val_loss: 1.4382 - val_accuracy: 0.4731\n",
            "Epoch 166/200\n",
            "686/686 [==============================] - 4s 5ms/step - loss: 1.4092 - accuracy: 0.4823 - val_loss: 1.4393 - val_accuracy: 0.4740\n",
            "Epoch 167/200\n",
            "686/686 [==============================] - 4s 5ms/step - loss: 1.4096 - accuracy: 0.4823 - val_loss: 1.4378 - val_accuracy: 0.4730\n",
            "Epoch 168/200\n",
            "686/686 [==============================] - 4s 5ms/step - loss: 1.4074 - accuracy: 0.4825 - val_loss: 1.4392 - val_accuracy: 0.4748\n",
            "Epoch 169/200\n",
            "686/686 [==============================] - 4s 5ms/step - loss: 1.4103 - accuracy: 0.4815 - val_loss: 1.4354 - val_accuracy: 0.4751\n",
            "Epoch 170/200\n",
            "686/686 [==============================] - 4s 5ms/step - loss: 1.4076 - accuracy: 0.4834 - val_loss: 1.4380 - val_accuracy: 0.4766\n",
            "Epoch 171/200\n",
            "686/686 [==============================] - 4s 6ms/step - loss: 1.4071 - accuracy: 0.4840 - val_loss: 1.4370 - val_accuracy: 0.4740\n",
            "Epoch 172/200\n",
            "686/686 [==============================] - 4s 5ms/step - loss: 1.4073 - accuracy: 0.4825 - val_loss: 1.4435 - val_accuracy: 0.4702\n",
            "Epoch 173/200\n",
            "686/686 [==============================] - 4s 5ms/step - loss: 1.4084 - accuracy: 0.4832 - val_loss: 1.4364 - val_accuracy: 0.4748\n",
            "Epoch 174/200\n",
            "686/686 [==============================] - 4s 5ms/step - loss: 1.4091 - accuracy: 0.4824 - val_loss: 1.4371 - val_accuracy: 0.4716\n",
            "Epoch 175/200\n",
            "686/686 [==============================] - 4s 5ms/step - loss: 1.4097 - accuracy: 0.4831 - val_loss: 1.4382 - val_accuracy: 0.4726\n",
            "Epoch 176/200\n",
            "686/686 [==============================] - 4s 5ms/step - loss: 1.4089 - accuracy: 0.4827 - val_loss: 1.4406 - val_accuracy: 0.4725\n",
            "Epoch 177/200\n",
            "686/686 [==============================] - 4s 5ms/step - loss: 1.4070 - accuracy: 0.4827 - val_loss: 1.4413 - val_accuracy: 0.4724\n",
            "Epoch 178/200\n",
            "686/686 [==============================] - 4s 5ms/step - loss: 1.4059 - accuracy: 0.4841 - val_loss: 1.4414 - val_accuracy: 0.4697\n",
            "Epoch 179/200\n",
            "686/686 [==============================] - 4s 5ms/step - loss: 1.4075 - accuracy: 0.4834 - val_loss: 1.4386 - val_accuracy: 0.4733\n",
            "Epoch 180/200\n",
            "686/686 [==============================] - 4s 5ms/step - loss: 1.4063 - accuracy: 0.4836 - val_loss: 1.4395 - val_accuracy: 0.4720\n",
            "Epoch 181/200\n",
            "686/686 [==============================] - 4s 5ms/step - loss: 1.4089 - accuracy: 0.4830 - val_loss: 1.4369 - val_accuracy: 0.4715\n",
            "Epoch 182/200\n",
            "686/686 [==============================] - 4s 5ms/step - loss: 1.4057 - accuracy: 0.4847 - val_loss: 1.4401 - val_accuracy: 0.4727\n",
            "Epoch 183/200\n",
            "686/686 [==============================] - 4s 5ms/step - loss: 1.4075 - accuracy: 0.4814 - val_loss: 1.4438 - val_accuracy: 0.4699\n",
            "Epoch 184/200\n",
            "686/686 [==============================] - 4s 5ms/step - loss: 1.4078 - accuracy: 0.4837 - val_loss: 1.4384 - val_accuracy: 0.4753\n",
            "Epoch 185/200\n",
            "686/686 [==============================] - 4s 5ms/step - loss: 1.4055 - accuracy: 0.4836 - val_loss: 1.4366 - val_accuracy: 0.4722\n",
            "Epoch 186/200\n",
            "686/686 [==============================] - 4s 5ms/step - loss: 1.4069 - accuracy: 0.4851 - val_loss: 1.4383 - val_accuracy: 0.4716\n",
            "Epoch 187/200\n",
            "686/686 [==============================] - 4s 5ms/step - loss: 1.4063 - accuracy: 0.4830 - val_loss: 1.4329 - val_accuracy: 0.4753\n",
            "Epoch 188/200\n",
            "686/686 [==============================] - 4s 5ms/step - loss: 1.4069 - accuracy: 0.4832 - val_loss: 1.4350 - val_accuracy: 0.4741\n",
            "Epoch 189/200\n",
            "686/686 [==============================] - 4s 5ms/step - loss: 1.4039 - accuracy: 0.4836 - val_loss: 1.4347 - val_accuracy: 0.4729\n",
            "Epoch 190/200\n",
            "686/686 [==============================] - 4s 5ms/step - loss: 1.4029 - accuracy: 0.4837 - val_loss: 1.4359 - val_accuracy: 0.4750\n",
            "Epoch 191/200\n",
            "686/686 [==============================] - 4s 5ms/step - loss: 1.4061 - accuracy: 0.4847 - val_loss: 1.4349 - val_accuracy: 0.4743\n",
            "Epoch 192/200\n",
            "686/686 [==============================] - 4s 5ms/step - loss: 1.4079 - accuracy: 0.4838 - val_loss: 1.4357 - val_accuracy: 0.4758\n",
            "Epoch 193/200\n",
            "686/686 [==============================] - 4s 5ms/step - loss: 1.4054 - accuracy: 0.4826 - val_loss: 1.4398 - val_accuracy: 0.4723\n",
            "Epoch 194/200\n",
            "686/686 [==============================] - 4s 5ms/step - loss: 1.4048 - accuracy: 0.4847 - val_loss: 1.4405 - val_accuracy: 0.4718\n",
            "Epoch 195/200\n",
            "686/686 [==============================] - 4s 5ms/step - loss: 1.4052 - accuracy: 0.4839 - val_loss: 1.4337 - val_accuracy: 0.4772\n",
            "Epoch 196/200\n",
            "686/686 [==============================] - 4s 5ms/step - loss: 1.4053 - accuracy: 0.4847 - val_loss: 1.4352 - val_accuracy: 0.4752\n",
            "Epoch 197/200\n",
            "686/686 [==============================] - 4s 5ms/step - loss: 1.4051 - accuracy: 0.4845 - val_loss: 1.4375 - val_accuracy: 0.4751\n",
            "Epoch 198/200\n",
            "686/686 [==============================] - 4s 5ms/step - loss: 1.4045 - accuracy: 0.4836 - val_loss: 1.4344 - val_accuracy: 0.4752\n",
            "Epoch 199/200\n",
            "686/686 [==============================] - 4s 5ms/step - loss: 1.4059 - accuracy: 0.4842 - val_loss: 1.4329 - val_accuracy: 0.4737\n",
            "Epoch 200/200\n",
            "686/686 [==============================] - 4s 5ms/step - loss: 1.4047 - accuracy: 0.4845 - val_loss: 1.4377 - val_accuracy: 0.4750\n"
          ]
        },
        {
          "output_type": "execute_result",
          "data": {
            "text/plain": [
              "<keras.callbacks.History at 0x7cd26d46e920>"
            ]
          },
          "metadata": {},
          "execution_count": 14
        }
      ]
    },
    {
      "cell_type": "code",
      "metadata": {
        "id": "RLlSfejDoUag",
        "cell_id": "5b0871b4c2c044729e60f849011f01d3",
        "scrolled": true,
        "source_hash": null,
        "deepnote_to_be_reexecuted": true,
        "deepnote_cell_type": "code"
      },
      "source": [
        "# CNN_Best_model = load_model('./model/CNN_static_twitterGeneral_Best_EMRS_model_f1_.hdf5')\n",
        "y_test = ytest.argmax(axis=1)"
      ],
      "execution_count": null,
      "outputs": []
    },
    {
      "cell_type": "code",
      "metadata": {
        "id": "DBcwAeIkoUai",
        "cell_id": "55903720d8f64c649f2ec8c59b01e748",
        "source_hash": null,
        "deepnote_to_be_reexecuted": true,
        "deepnote_cell_type": "code",
        "colab": {
          "base_uri": "https://localhost:8080/"
        },
        "outputId": "edf84ea5-f4e5-4219-e012-f9f368b9c626"
      },
      "source": [
        "# result = Best_model.predict(Xtest).argmax(axis=1)\n",
        "result = Conv_model.predict(Xtest).argmax(axis=-1)\n",
        "print(classification_report(y_test, result, digits=4))\n",
        "#print(confusion_matrix(y_test, result)) #y -> real; x -> predict"
      ],
      "execution_count": null,
      "outputs": [
        {
          "output_type": "stream",
          "name": "stdout",
          "text": [
            "1681/1681 [==============================] - 3s 2ms/step\n",
            "              precision    recall  f1-score   support\n",
            "\n",
            "           0     0.5289    0.8293    0.6459      7299\n",
            "           1     0.2456    0.1127    0.1545      2334\n",
            "           2     0.2439    0.1129    0.1544      2205\n",
            "           3     0.2500    0.0772    0.1179      1659\n",
            "           4     0.2352    0.2207    0.2277      2710\n",
            "           5     0.2354    0.0458    0.0766      2119\n",
            "           6     0.2544    0.0802    0.1220      3091\n",
            "           7     0.3000    0.2295    0.2601      6156\n",
            "           8     0.3660    0.2486    0.2961      9177\n",
            "           9     0.5747    0.8391    0.6821     17016\n",
            "\n",
            "    accuracy                         0.4763     53766\n",
            "   macro avg     0.3234    0.2796    0.2737     53766\n",
            "weighted avg     0.4146    0.4763    0.4221     53766\n",
            "\n"
          ]
        }
      ]
    },
    {
      "cell_type": "code",
      "metadata": {
        "id": "MKQvSQtxoUal",
        "cell_id": "e22d534225774f29a34f26ddc8e2c29a",
        "source_hash": null,
        "deepnote_to_be_reexecuted": true,
        "deepnote_cell_type": "code"
      },
      "source": [
        "result2 = CNN_Best_model.predict(Xtest).argmax(axis=1)\n",
        "print(classification_report(y_test, result2, digits=4))\n",
        "#print(confusion_matrix(y_test, result)) #y -> real; x -> predict"
      ],
      "execution_count": null,
      "outputs": []
    },
    {
      "cell_type": "code",
      "metadata": {
        "id": "6KeaKAFNoUao",
        "cell_id": "49b8134fc4f04dffb5bc22a6beed381f",
        "scrolled": false,
        "source_hash": null,
        "deepnote_to_be_reexecuted": true,
        "deepnote_cell_type": "code"
      },
      "source": [
        "data.matrix_printer(confusion_matrix(y_test, result2), [1,2,3,4,5,6,7,8,9,10], [1,2,3,4,5,6,7,8,9,10]).show()"
      ],
      "execution_count": null,
      "outputs": []
    },
    {
      "cell_type": "code",
      "metadata": {
        "id": "_b1-PzqhoUar",
        "cell_id": "be35acc34b584d849805b5371a5936aa",
        "source_hash": null,
        "deepnote_to_be_reexecuted": true,
        "deepnote_cell_type": "code"
      },
      "source": [
        "Conv_model.save('./model/CNN_static_twitterGeneral_200epoch_EMRS_model_f1_.hdf5')"
      ],
      "execution_count": null,
      "outputs": []
    },
    {
      "cell_type": "code",
      "metadata": {
        "cell_id": "a185909dd52646a1a7be5dd81f1088e4",
        "source_hash": null,
        "execution_start": 1680546435035,
        "execution_millis": 13,
        "deepnote_to_be_reexecuted": true,
        "deepnote_cell_type": "code",
        "id": "86McekBklQm1",
        "outputId": "3fce2254-ca41-4394-f6f8-3a2f86b66b78"
      },
      "source": [
        "# Define the path to the text file\n",
        "file_path = '/datasets/google-drive/DrugSentimentAnalysis-master/w2v/wikipedia-pubmed-and-PMC-w2v.bin' # http://evexdb.org/pmresources/vec-space-models/'\n",
        "\n",
        "# Open the file in read-only mode\n",
        "with open(file_path, 'r') as file:\n",
        "    # Read the contents of the file\n",
        "    contents = file.read()\n",
        "\n",
        "# Print the contents of the file\n",
        "print(contents)"
      ],
      "execution_count": null,
      "outputs": [
        {
          "output_type": "error",
          "ename": "KernelInterrupted",
          "evalue": "Execution interrupted by the Jupyter kernel.",
          "traceback": [
            "\u001b[0;31m---------------------------------------------------------------------------\u001b[0m",
            "\u001b[0;31mKernelInterrupted\u001b[0m: Execution interrupted by the Jupyter kernel."
          ]
        }
      ]
    }
  ],
  "nbformat": 4,
  "nbformat_minor": 0,
  "metadata": {
    "colab": {
      "provenance": [],
      "machine_shape": "hm",
      "gpuType": "A100"
    },
    "deepnote": {},
    "kernelspec": {
      "name": "python3",
      "display_name": "Python 3"
    },
    "accelerator": "GPU",
    "language_info": {
      "name": "python",
      "version": "3.6.1",
      "mimetype": "text/x-python",
      "file_extension": ".py",
      "pygments_lexer": "ipython3",
      "codemirror_mode": {
        "name": "ipython",
        "version": 3
      },
      "nbconvert_exporter": "python"
    },
    "deepnote_notebook_id": "6328f2116fed4e66a2650db1a9b145ea",
    "deepnote_execution_queue": []
  }
}